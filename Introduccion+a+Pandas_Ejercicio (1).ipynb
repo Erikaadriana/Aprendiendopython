{
  "cells": [
    {
      "cell_type": "code",
      "execution_count": null,
      "id": "2bac431d",
      "metadata": {
        "id": "2bac431d"
      },
      "outputs": [],
      "source": [
        "# importar pandas\n",
        "import pandas as pd"
      ]
    },
    {
      "cell_type": "code",
      "execution_count": null,
      "id": "730ef2aa",
      "metadata": {
        "id": "730ef2aa"
      },
      "outputs": [],
      "source": [
        "# Opcional: usa el pd.set_option() para mostrar todas las filas de un dataframe por defecto\n"
      ]
    },
    {
      "cell_type": "markdown",
      "id": "05c7ec54",
      "metadata": {
        "id": "05c7ec54"
      },
      "source": [
        "# Crear un DataFrame"
      ]
    },
    {
      "cell_type": "code",
      "execution_count": null,
      "id": "cfb39f8c",
      "metadata": {
        "id": "cfb39f8c"
      },
      "outputs": [],
      "source": [
        "# leer el archivo csv \"bestsellers with categories\" (data sobre los 50 libros más vendidos de Amazon de 2009 a 2019.)\n"
      ]
    },
    {
      "cell_type": "code",
      "execution_count": null,
      "id": "618209c8",
      "metadata": {
        "scrolled": true,
        "id": "618209c8"
      },
      "outputs": [],
      "source": [
        "# acceder al atributo shape\n"
      ]
    },
    {
      "cell_type": "code",
      "execution_count": null,
      "id": "3acde70f",
      "metadata": {
        "id": "3acde70f"
      },
      "outputs": [],
      "source": [
        "# encontrar el tipo de data de cada columna\n"
      ]
    },
    {
      "cell_type": "markdown",
      "id": "7f15b10b",
      "metadata": {
        "id": "7f15b10b"
      },
      "source": [
        "# Mostrar un DataFrame"
      ]
    },
    {
      "cell_type": "code",
      "execution_count": null,
      "id": "ef6b8d45",
      "metadata": {
        "scrolled": true,
        "id": "ef6b8d45"
      },
      "outputs": [],
      "source": [
        "# mostrar primeras 5 filas de un dataframe\n"
      ]
    },
    {
      "cell_type": "code",
      "execution_count": null,
      "id": "a3da1b0a",
      "metadata": {
        "id": "a3da1b0a"
      },
      "outputs": [],
      "source": [
        "# encontrar valores estadisticos de un dataframe (mean, std, min, max)\n"
      ]
    },
    {
      "cell_type": "markdown",
      "id": "5f3f4db6",
      "metadata": {
        "id": "5f3f4db6"
      },
      "source": [
        "# Agregar una nueva Columna"
      ]
    },
    {
      "cell_type": "code",
      "execution_count": null,
      "id": "94c526df",
      "metadata": {
        "id": "94c526df"
      },
      "outputs": [],
      "source": [
        "# Tu tarea es crear una columna llamada 'Critic Rating' que deberia tener numeros random enteros entre 1 y 4\n",
        "\n",
        "# 1.importar numpy y crear 550 numeros random enteros entre 1 y 4\n",
        "\n",
        "\n",
        "# 2.agregar nueva columna 'Critic Rating' al dataframe usando los numeros random creados\n",
        "\n",
        "\n",
        "# Obs: Los numeros aleatorios en la columna 'Critic Rating' seran diferentes entre tu solucion y la mia, pero vamos a concetrarnos en el codigo en esta seccion."
      ]
    },
    {
      "cell_type": "code",
      "execution_count": null,
      "id": "af7cec1e",
      "metadata": {
        "id": "af7cec1e"
      },
      "outputs": [],
      "source": [
        "# mostrar 5 primeras filas\n"
      ]
    },
    {
      "cell_type": "markdown",
      "id": "822167f7",
      "metadata": {
        "id": "822167f7"
      },
      "source": [
        "# Atributos, Metodos y Funciones Basicas"
      ]
    },
    {
      "cell_type": "code",
      "execution_count": null,
      "id": "3b8dfa8e",
      "metadata": {
        "id": "3b8dfa8e"
      },
      "outputs": [],
      "source": [
        "# acceder al atributo \"columns\"\n"
      ]
    },
    {
      "cell_type": "markdown",
      "id": "6fe2c5f5",
      "metadata": {
        "id": "6fe2c5f5"
      },
      "source": [
        "# Seleccionar 2 o Mas Columnas de un Dataframe"
      ]
    },
    {
      "cell_type": "code",
      "execution_count": null,
      "id": "97e31642",
      "metadata": {
        "id": "97e31642"
      },
      "outputs": [],
      "source": [
        "# mover la columna 'Critic Rating' entre las columnas \"User Rating\" y \"Reviews\" Luego actualizar el dataframe\n",
        "\n",
        "# Tip: Copiar y pegar los nombres de columna obtenidos con el atributo \"columns\" y reordenar los elementos usando [[]]"
      ]
    },
    {
      "cell_type": "code",
      "execution_count": null,
      "id": "b15bae55",
      "metadata": {
        "id": "b15bae55"
      },
      "outputs": [],
      "source": [
        "# mostrar 5 primeras filas\n"
      ]
    },
    {
      "cell_type": "markdown",
      "id": "fedaf280",
      "metadata": {
        "id": "fedaf280"
      },
      "source": [
        "# Operaciones en Dataframes"
      ]
    },
    {
      "cell_type": "code",
      "execution_count": null,
      "id": "da1c2205",
      "metadata": {
        "id": "da1c2205"
      },
      "outputs": [],
      "source": [
        "# crear una columna llamada \"Average Rating\" usando la sigueinte formula: Average Rating = (User Rating + Critic Rating)/2\n"
      ]
    },
    {
      "cell_type": "code",
      "execution_count": null,
      "id": "ab6c226b",
      "metadata": {
        "id": "ab6c226b"
      },
      "outputs": [],
      "source": [
        "# usar la funcion \"round\" para redondear los valores del dataframe a 1 decimal y actualizar el dataframe\n"
      ]
    },
    {
      "cell_type": "markdown",
      "id": "5142f8af",
      "metadata": {
        "id": "5142f8af"
      },
      "source": [
        "# Contar Valores"
      ]
    },
    {
      "cell_type": "code",
      "execution_count": null,
      "id": "a3a1e3fc",
      "metadata": {
        "id": "a3a1e3fc"
      },
      "outputs": [],
      "source": [
        "# contar elementos en columna \"Genre\" por categoria y devolver la frecuencia relativa\n"
      ]
    },
    {
      "cell_type": "markdown",
      "id": "13ff41dd",
      "metadata": {
        "id": "13ff41dd"
      },
      "source": [
        "# Renombrar Columnas"
      ]
    },
    {
      "cell_type": "code",
      "execution_count": null,
      "id": "f86a8194",
      "metadata": {
        "id": "f86a8194"
      },
      "outputs": [],
      "source": [
        "# renombrar columnas \"User Rating,\" \"Critic Rating\" y \"Average Rating\" a \"UR,\" \"CR\" y \"AR\" Luego actualizar el dataframe con el parametro \"inplace\"\n"
      ]
    },
    {
      "cell_type": "code",
      "execution_count": null,
      "id": "3df4c15c",
      "metadata": {
        "id": "3df4c15c"
      },
      "outputs": [],
      "source": [
        "# mostrar 5 primeras filas\n"
      ]
    },
    {
      "cell_type": "code",
      "execution_count": null,
      "id": "cadf8f92",
      "metadata": {
        "id": "cadf8f92"
      },
      "outputs": [],
      "source": [
        "# seleccionar solo columnas \"Name\", \"Author\", \"UR\", \"CR\", \"AR\" y \"Year\" y actualizar el dataframe\n"
      ]
    },
    {
      "cell_type": "markdown",
      "id": "6c458cf9",
      "metadata": {
        "id": "6c458cf9"
      },
      "source": [
        "# Ordenar el dataframe"
      ]
    },
    {
      "cell_type": "code",
      "execution_count": null,
      "id": "50a7d2a8",
      "metadata": {
        "id": "50a7d2a8"
      },
      "outputs": [],
      "source": [
        "# ordenar el dataframe en forma descendente segun las columnas \"UR\" y \"CR\"\n"
      ]
    }
  ],
  "metadata": {
    "kernelspec": {
      "display_name": "Python 3",
      "language": "python",
      "name": "python3"
    },
    "language_info": {
      "codemirror_mode": {
        "name": "ipython",
        "version": 3
      },
      "file_extension": ".py",
      "mimetype": "text/x-python",
      "name": "python",
      "nbconvert_exporter": "python",
      "pygments_lexer": "ipython3",
      "version": "3.8.8"
    },
    "toc": {
      "base_numbering": 1,
      "nav_menu": {},
      "number_sections": true,
      "sideBar": true,
      "skip_h1_title": false,
      "title_cell": "Table of Contents",
      "title_sidebar": "Contents",
      "toc_cell": false,
      "toc_position": {},
      "toc_section_display": true,
      "toc_window_display": false
    },
    "colab": {
      "provenance": []
    }
  },
  "nbformat": 4,
  "nbformat_minor": 5
}