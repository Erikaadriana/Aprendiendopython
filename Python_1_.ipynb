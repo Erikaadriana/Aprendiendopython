{
  "nbformat": 4,
  "nbformat_minor": 0,
  "metadata": {
    "colab": {
      "provenance": []
    },
    "kernelspec": {
      "name": "python3",
      "display_name": "Python 3"
    },
    "language_info": {
      "name": "python"
    }
  },
  "cells": [
    {
      "cell_type": "markdown",
      "source": [
        "\n",
        "**Buenos dias** estoy aprendiendo Python."
      ],
      "metadata": {
        "id": "GsnSOIg8lgC9"
      }
    },
    {
      "cell_type": "code",
      "execution_count": null,
      "metadata": {
        "id": "Izs_JSfFjKWO",
        "colab": {
          "base_uri": "https://localhost:8080/"
        },
        "outputId": "a61e2c9d-503b-4111-8516-e4c89e41a5fc"
      },
      "outputs": [
        {
          "output_type": "stream",
          "name": "stdout",
          "text": [
            "Buenos dias\n"
          ]
        }
      ],
      "source": [
        "#Esto es una broma aun no son buenos dias\n",
        "print(\"Buenos dias\")"
      ]
    },
    {
      "cell_type": "code",
      "source": [
        "#Esta soy yo\n",
        "print(\"Hola soy Erika, tengo 30 años, me gusta viajar y vivo en madrid\")"
      ],
      "metadata": {
        "colab": {
          "base_uri": "https://localhost:8080/"
        },
        "id": "EOtr8gbFmnN4",
        "outputId": "b615ae5a-f10d-4174-e0b6-fad0a2baa199"
      },
      "execution_count": null,
      "outputs": [
        {
          "output_type": "stream",
          "name": "stdout",
          "text": [
            "Hola soy Erika, tengo 30 años, me gusta viajar y vivo en madrid\n"
          ]
        }
      ]
    },
    {
      "cell_type": "code",
      "source": [
        "\"Trabajaria por ser el porcentaje que en tu piel quieras tener\""
      ],
      "metadata": {
        "id": "z49t8jzMnNnB",
        "outputId": "a73ea753-1a76-4f20-e04d-633eeec81280",
        "colab": {
          "base_uri": "https://localhost:8080/",
          "height": 35
        }
      },
      "execution_count": null,
      "outputs": [
        {
          "output_type": "execute_result",
          "data": {
            "text/plain": [
              "'Trabajaria por ser el porcentaje que en tu piel quieras tener'"
            ],
            "application/vnd.google.colaboratory.intrinsic+json": {
              "type": "string"
            }
          },
          "metadata": {},
          "execution_count": 3
        }
      ]
    },
    {
      "cell_type": "markdown",
      "source": [],
      "metadata": {
        "id": "bKahLsGvn2VR"
      }
    },
    {
      "cell_type": "markdown",
      "source": [
        "**TIPOS DE DATOS**"
      ],
      "metadata": {
        "id": "qOJoBOHFn_cR"
      }
    },
    {
      "cell_type": "code",
      "source": [
        "#Tipo de dato entero, en ingles es integer y la abreviatura para python es int\n",
        "type(30)"
      ],
      "metadata": {
        "id": "_CLpdPiInzc_",
        "outputId": "c1cfaca1-8b58-4e95-d423-68cd32ca8e68",
        "colab": {
          "base_uri": "https://localhost:8080/"
        }
      },
      "execution_count": null,
      "outputs": [
        {
          "output_type": "execute_result",
          "data": {
            "text/plain": [
              "int"
            ]
          },
          "metadata": {},
          "execution_count": 4
        }
      ]
    },
    {
      "cell_type": "code",
      "source": [
        "#Tipo de dato flotante que en español, lo conocemos como decimal, su abreviatura es float\n",
        "type(9.8)"
      ],
      "metadata": {
        "id": "MjmdLq3povE1",
        "outputId": "6fdeb75f-506b-46f2-d8ec-103f185b2181",
        "colab": {
          "base_uri": "https://localhost:8080/"
        }
      },
      "execution_count": null,
      "outputs": [
        {
          "output_type": "execute_result",
          "data": {
            "text/plain": [
              "float"
            ]
          },
          "metadata": {},
          "execution_count": 5
        }
      ]
    },
    {
      "cell_type": "code",
      "source": [
        "#Boleanos, son tipos de datos que solo pueden tener dos valores, el true(verdadero) o false(falso)\n",
        "type(True)"
      ],
      "metadata": {
        "id": "al0ckCIdo9vU",
        "outputId": "e3cd720b-31b2-41c3-a176-b2e4576caa54",
        "colab": {
          "base_uri": "https://localhost:8080/"
        }
      },
      "execution_count": null,
      "outputs": [
        {
          "output_type": "execute_result",
          "data": {
            "text/plain": [
              "bool"
            ]
          },
          "metadata": {},
          "execution_count": 6
        }
      ]
    },
    {
      "cell_type": "code",
      "source": [
        "#Tipos de datos cadena, en ingles strings, siempre deben tener comillas su abreviatura es str\n",
        "type(\"en un lugar de la mancha de cuyo nombre no puedo acordarme...\")"
      ],
      "metadata": {
        "id": "2Kl9ptoPpxPq",
        "outputId": "9b177866-a2f0-4a2a-b04e-b0135dfe466f",
        "colab": {
          "base_uri": "https://localhost:8080/"
        }
      },
      "execution_count": null,
      "outputs": [
        {
          "output_type": "execute_result",
          "data": {
            "text/plain": [
              "str"
            ]
          },
          "metadata": {},
          "execution_count": 7
        }
      ]
    },
    {
      "cell_type": "markdown",
      "source": [
        "Metodos de las cadenas, las cadenas tienen funciones pequeñas que me ayudan a formatearlas"
      ],
      "metadata": {
        "id": "xneCor2Tqb5Y"
      }
    },
    {
      "cell_type": "code",
      "source": [
        "print(\"Hola estoy aprendiendo python\".upper())#este metodo me sirve para poner mayusculas\n",
        "print(\"Con pythin PUEDO pedir UN aumento\".lower())#Este metodo me sirve para poner minusculas\n",
        "print(\"El amor en los tiempos del colera\".title())#Este metodo me sirve para poner la letra inicial de cada palabra en mayuscula"
      ],
      "metadata": {
        "id": "P7gtnTgEqg4a",
        "outputId": "1d804236-5dd7-4c08-df8e-3a7c26bebd02",
        "colab": {
          "base_uri": "https://localhost:8080/"
        }
      },
      "execution_count": null,
      "outputs": [
        {
          "output_type": "stream",
          "name": "stdout",
          "text": [
            "HOLA ESTOY APRENDIENDO PYTHON\n",
            "con pythin puedo pedir un aumento\n",
            "El Amor En Los Tiempos Del Colera\n"
          ]
        }
      ]
    },
    {
      "cell_type": "code",
      "source": [
        "#Para contar las letras de una cadena puedo usar el metodo count\n",
        "print(\"Existen distintas clasificaciones en las cuales se agrupan las oraciones gramaticales. Se clasifican según distintos criterios, como pueden ser el tipo de\".count(\"a\"))"
      ],
      "metadata": {
        "id": "2RZO1Db4qz6h",
        "outputId": "d35957d6-8a58-47e8-d7fe-5db514d00ae5",
        "colab": {
          "base_uri": "https://localhost:8080/"
        }
      },
      "execution_count": null,
      "outputs": [
        {
          "output_type": "stream",
          "name": "stdout",
          "text": [
            "14\n"
          ]
        }
      ]
    },
    {
      "cell_type": "code",
      "source": [
        "print(\"\"\"Mi edad es 30 años\n",
        "Mi genero es Femenino\"\"\")"
      ],
      "metadata": {
        "id": "k5_nblYksMof",
        "outputId": "3bc61f1e-7454-4139-89e2-deec17d147c9",
        "colab": {
          "base_uri": "https://localhost:8080/"
        }
      },
      "execution_count": null,
      "outputs": [
        {
          "output_type": "stream",
          "name": "stdout",
          "text": [
            "Mi edad es 30 años\n",
            "Mi genero es Femenino\n"
          ]
        }
      ]
    },
    {
      "cell_type": "code",
      "source": [
        "#como reemplazar un valor dentro de una cadena utilizando replace\n",
        "print(\"Hola soy Erika Adrian Ordoñez\".replace(\"o\",\"J\"))"
      ],
      "metadata": {
        "id": "dfMeBrU1sty_",
        "outputId": "313516d3-6fc9-4a65-f0eb-b6f7705b05cb",
        "colab": {
          "base_uri": "https://localhost:8080/"
        }
      },
      "execution_count": null,
      "outputs": [
        {
          "output_type": "stream",
          "name": "stdout",
          "text": [
            "HJla sJy Erika Adrian OrdJñez\n"
          ]
        }
      ]
    },
    {
      "cell_type": "code",
      "source": [
        "#Remplaza cada una de las letras de mi nombre por mayusculas\n",
        "print(\"erika adriana ordoñez gamba\".replace(\"e\",\"E\"))"
      ],
      "metadata": {
        "id": "ebuvCc0VtWKi",
        "outputId": "8e5e94f6-9249-48d8-8a78-af36274e43f5",
        "colab": {
          "base_uri": "https://localhost:8080/"
        }
      },
      "execution_count": null,
      "outputs": [
        {
          "output_type": "stream",
          "name": "stdout",
          "text": [
            "Erika adriana ordoñEz gamba\n"
          ]
        }
      ]
    },
    {
      "cell_type": "markdown",
      "source": [],
      "metadata": {
        "id": "q_6bgO_SpuaV"
      }
    },
    {
      "cell_type": "code",
      "source": [
        "print(\"erika adriana ordoñez gamba\".title())"
      ],
      "metadata": {
        "id": "1_X6Qo9etzMx",
        "outputId": "6377d513-4191-4f45-86cd-1226081f3617",
        "colab": {
          "base_uri": "https://localhost:8080/"
        }
      },
      "execution_count": null,
      "outputs": [
        {
          "output_type": "stream",
          "name": "stdout",
          "text": [
            "Erika Adriana Ordoñez Gamba\n"
          ]
        }
      ]
    },
    {
      "cell_type": "markdown",
      "source": [
        "**VARIABLE**\n",
        "Son espacios de mennoria que nos sirve para guardar informacion particular, deben tener un nombre que nos ayude a identificar su contenido"
      ],
      "metadata": {
        "id": "2l1UCdMfuGl3"
      }
    },
    {
      "cell_type": "code",
      "source": [
        "#Para declarar una variable se usa nombre de la variable, el signo = y el valor:\n",
        "#Ejemplo: edad=30\n",
        "nombre=\"Erika\"\n",
        "apellido=\"Ordoñez\"\n",
        "edad=30\n",
        "estado_civil=\"union libre\""
      ],
      "metadata": {
        "id": "e0xziu7cuQ8m"
      },
      "execution_count": null,
      "outputs": []
    },
    {
      "cell_type": "code",
      "source": [
        "nombre"
      ],
      "metadata": {
        "id": "siWp2XhBuyzT",
        "outputId": "e61902ea-844b-4f16-f13c-f507085e9a1f",
        "colab": {
          "base_uri": "https://localhost:8080/",
          "height": 35
        }
      },
      "execution_count": null,
      "outputs": [
        {
          "output_type": "execute_result",
          "data": {
            "text/plain": [
              "'Erika'"
            ],
            "application/vnd.google.colaboratory.intrinsic+json": {
              "type": "string"
            }
          },
          "metadata": {},
          "execution_count": 15
        }
      ]
    },
    {
      "cell_type": "code",
      "source": [
        "apellido"
      ],
      "metadata": {
        "id": "BBPNyDYIvAVm",
        "outputId": "0a449c95-bf69-4a81-b0e3-f203c58687f9",
        "colab": {
          "base_uri": "https://localhost:8080/",
          "height": 35
        }
      },
      "execution_count": null,
      "outputs": [
        {
          "output_type": "execute_result",
          "data": {
            "text/plain": [
              "'Ordoñez'"
            ],
            "application/vnd.google.colaboratory.intrinsic+json": {
              "type": "string"
            }
          },
          "metadata": {},
          "execution_count": 16
        }
      ]
    },
    {
      "cell_type": "code",
      "source": [
        "edad"
      ],
      "metadata": {
        "id": "W8U-qnKWvBXr",
        "outputId": "c7550ed9-978c-4fb5-b594-044e67144484",
        "colab": {
          "base_uri": "https://localhost:8080/"
        }
      },
      "execution_count": null,
      "outputs": [
        {
          "output_type": "execute_result",
          "data": {
            "text/plain": [
              "30"
            ]
          },
          "metadata": {},
          "execution_count": 17
        }
      ]
    },
    {
      "cell_type": "code",
      "source": [
        "estado_civil"
      ],
      "metadata": {
        "id": "UUZvXzjLvEq1",
        "outputId": "4ac97393-aff5-41af-9300-c9c7df3f0e53",
        "colab": {
          "base_uri": "https://localhost:8080/",
          "height": 35
        }
      },
      "execution_count": null,
      "outputs": [
        {
          "output_type": "execute_result",
          "data": {
            "text/plain": [
              "'union libre'"
            ],
            "application/vnd.google.colaboratory.intrinsic+json": {
              "type": "string"
            }
          },
          "metadata": {},
          "execution_count": 18
        }
      ]
    },
    {
      "cell_type": "code",
      "source": [
        "#nombre de mi hijo que no tengo\n",
        "hijo_nombre=\"Pachito\"\n",
        "hijo_apellido=\"Mentira\""
      ],
      "metadata": {
        "id": "ZMN4RLLNvHaL"
      },
      "execution_count": null,
      "outputs": []
    },
    {
      "cell_type": "code",
      "source": [
        "hijo_nombre"
      ],
      "metadata": {
        "id": "C00jqRcavWu3",
        "outputId": "29ccaf33-d68f-4750-d7a7-b9c01e204fca",
        "colab": {
          "base_uri": "https://localhost:8080/",
          "height": 35
        }
      },
      "execution_count": null,
      "outputs": [
        {
          "output_type": "execute_result",
          "data": {
            "text/plain": [
              "'Pachito'"
            ],
            "application/vnd.google.colaboratory.intrinsic+json": {
              "type": "string"
            }
          },
          "metadata": {},
          "execution_count": 20
        }
      ]
    },
    {
      "cell_type": "code",
      "source": [
        "hijo_apellido=\"verdades\""
      ],
      "metadata": {
        "id": "7MZVHm7ZvZO8"
      },
      "execution_count": null,
      "outputs": []
    },
    {
      "cell_type": "code",
      "source": [
        "hijo_apellido"
      ],
      "metadata": {
        "id": "vJHduCqWvg0x",
        "outputId": "4fc8831b-8b73-4279-d942-620b812fcce7",
        "colab": {
          "base_uri": "https://localhost:8080/",
          "height": 35
        }
      },
      "execution_count": null,
      "outputs": [
        {
          "output_type": "execute_result",
          "data": {
            "text/plain": [
              "'verdades'"
            ],
            "application/vnd.google.colaboratory.intrinsic+json": {
              "type": "string"
            }
          },
          "metadata": {},
          "execution_count": 22
        }
      ]
    },
    {
      "cell_type": "code",
      "source": [
        "#Esta es una variable con un mensaje\n",
        "mensaje_1=\"Ahora que se que python alexandra no me va a ganar\""
      ],
      "metadata": {
        "id": "kmw2ENOOvmMo"
      },
      "execution_count": null,
      "outputs": []
    },
    {
      "cell_type": "code",
      "source": [
        "mensaje_1"
      ],
      "metadata": {
        "id": "-SfUyDAQ1g6R",
        "outputId": "328b89da-8050-4ef6-9be3-0f7260e5e824",
        "colab": {
          "base_uri": "https://localhost:8080/",
          "height": 35
        }
      },
      "execution_count": null,
      "outputs": [
        {
          "output_type": "execute_result",
          "data": {
            "text/plain": [
              "'Ahora que se que python alexandra no me va a ganar'"
            ],
            "application/vnd.google.colaboratory.intrinsic+json": {
              "type": "string"
            }
          },
          "metadata": {},
          "execution_count": 24
        }
      ]
    },
    {
      "cell_type": "code",
      "source": [
        "#Aca bi silo guarde la variable si no que lo mostre de una vez\n",
        "mensaje_2=\"Porque yo voy con toda\"\n",
        "mensaje_2"
      ],
      "metadata": {
        "id": "MmQXe2iP1i06",
        "outputId": "ec4d0591-77f1-4370-b136-0619a91b3ee2",
        "colab": {
          "base_uri": "https://localhost:8080/",
          "height": 35
        }
      },
      "execution_count": null,
      "outputs": [
        {
          "output_type": "execute_result",
          "data": {
            "text/plain": [
              "'Porque yo voy con toda'"
            ],
            "application/vnd.google.colaboratory.intrinsic+json": {
              "type": "string"
            }
          },
          "metadata": {},
          "execution_count": 25
        }
      ]
    },
    {
      "cell_type": "code",
      "source": [
        "#Asi declaro un espacio vacio\n",
        "espacio=\" \""
      ],
      "metadata": {
        "id": "ePhD5ev31sE-"
      },
      "execution_count": null,
      "outputs": []
    },
    {
      "cell_type": "code",
      "source": [
        "#asi concateno con las variables\n",
        "mensaje_1+espacio+mensaje_2"
      ],
      "metadata": {
        "id": "En_FcHOH2GWN",
        "outputId": "626befae-9efb-4394-ef77-cd379790e437",
        "colab": {
          "base_uri": "https://localhost:8080/",
          "height": 35
        }
      },
      "execution_count": null,
      "outputs": [
        {
          "output_type": "execute_result",
          "data": {
            "text/plain": [
              "'Ahora que se que python alexandra no me va a ganar Porque yo voy con toda'"
            ],
            "application/vnd.google.colaboratory.intrinsic+json": {
              "type": "string"
            }
          },
          "metadata": {},
          "execution_count": 27
        }
      ]
    },
    {
      "cell_type": "code",
      "source": [
        "#asi guardo la concatenacion dento de una variable\n",
        "mensaje_completo=mensaje_1+espacio+mensaje_2\n",
        "mensaje_completo"
      ],
      "metadata": {
        "id": "c0L-VQoZ2o5O",
        "outputId": "50cd08d8-3cf6-4f94-94e0-aec139cdf3c7",
        "colab": {
          "base_uri": "https://localhost:8080/",
          "height": 35
        }
      },
      "execution_count": null,
      "outputs": [
        {
          "output_type": "execute_result",
          "data": {
            "text/plain": [
              "'Ahora que se que python alexandra no me va a ganar Porque yo voy con toda'"
            ],
            "application/vnd.google.colaboratory.intrinsic+json": {
              "type": "string"
            }
          },
          "metadata": {},
          "execution_count": 28
        }
      ]
    },
    {
      "cell_type": "markdown",
      "source": [
        "LISTAS, Son tipos de datos mutables y ordenados, son la smas usadas al trabajar con datos, para declarar una lista uso los corchetes cuadrados []"
      ],
      "metadata": {
        "id": "gMJDYEM43_aN"
      }
    },
    {
      "cell_type": "code",
      "source": [
        "#Listas: se definen como el siguiente ejemplo\n",
        "#datos=[\"Erika\",\"Adriana\",\"Ordoñez\",30,\"Union libre\",1.55]\n",
        "paises=[\"Colombia\",\"Ecuador\",\"Mexico\",\"China\",\"Francia\",\"Paraguay\"]\n",
        "paises"
      ],
      "metadata": {
        "id": "PU3GVtaZ4aUo",
        "outputId": "d9578c0e-7443-43d7-ecdd-f7827b726c3d",
        "colab": {
          "base_uri": "https://localhost:8080/"
        }
      },
      "execution_count": null,
      "outputs": [
        {
          "output_type": "execute_result",
          "data": {
            "text/plain": [
              "['Colombia', 'Ecuador', 'Mexico', 'China', 'Francia', 'Paraguay']"
            ]
          },
          "metadata": {},
          "execution_count": 29
        }
      ]
    },
    {
      "cell_type": "code",
      "source": [
        "#Las listas tienen indices automaticos, que se generan cuando creo la lista, sin embargo estos no son visibles hasta que los llamo\n",
        "paises[0]"
      ],
      "metadata": {
        "id": "iBg8anxz4-I2",
        "outputId": "335aeec8-0c3f-4269-d75d-2464828ed298",
        "colab": {
          "base_uri": "https://localhost:8080/",
          "height": 35
        }
      },
      "execution_count": null,
      "outputs": [
        {
          "output_type": "execute_result",
          "data": {
            "text/plain": [
              "'Colombia'"
            ],
            "application/vnd.google.colaboratory.intrinsic+json": {
              "type": "string"
            }
          },
          "metadata": {},
          "execution_count": 30
        }
      ]
    },
    {
      "cell_type": "code",
      "source": [
        "paises[-5]"
      ],
      "metadata": {
        "id": "sx0AvqEC5tGc",
        "outputId": "dbb63b1b-17d7-41ef-d57c-641594d6cf67",
        "colab": {
          "base_uri": "https://localhost:8080/",
          "height": 35
        }
      },
      "execution_count": null,
      "outputs": [
        {
          "output_type": "execute_result",
          "data": {
            "text/plain": [
              "'Ecuador'"
            ],
            "application/vnd.google.colaboratory.intrinsic+json": {
              "type": "string"
            }
          },
          "metadata": {},
          "execution_count": 31
        }
      ]
    },
    {
      "cell_type": "code",
      "source": [
        "paises[-1]"
      ],
      "metadata": {
        "id": "jm_SvLdB5vEE",
        "outputId": "077bc4d1-9733-458b-c00f-317cb30a70e5",
        "colab": {
          "base_uri": "https://localhost:8080/",
          "height": 35
        }
      },
      "execution_count": null,
      "outputs": [
        {
          "output_type": "execute_result",
          "data": {
            "text/plain": [
              "'Paraguay'"
            ],
            "application/vnd.google.colaboratory.intrinsic+json": {
              "type": "string"
            }
          },
          "metadata": {},
          "execution_count": 32
        }
      ]
    },
    {
      "cell_type": "code",
      "source": [
        "#Llamar paises desde la derecha hacia atras\n",
        "paises[-2]"
      ],
      "metadata": {
        "id": "3wIEODfS58Li",
        "outputId": "7173f406-646c-4db9-a550-c3a34e351462",
        "colab": {
          "base_uri": "https://localhost:8080/",
          "height": 35
        }
      },
      "execution_count": null,
      "outputs": [
        {
          "output_type": "execute_result",
          "data": {
            "text/plain": [
              "'Francia'"
            ],
            "application/vnd.google.colaboratory.intrinsic+json": {
              "type": "string"
            }
          },
          "metadata": {},
          "execution_count": 33
        }
      ]
    },
    {
      "cell_type": "code",
      "source": [
        "#Llamar paises desde la izquierda hacia delante\n",
        "paises[4]"
      ],
      "metadata": {
        "id": "eJAI6hVv6CcD",
        "outputId": "942c1db5-1757-41ec-c274-f83ac8b9b545",
        "colab": {
          "base_uri": "https://localhost:8080/",
          "height": 35
        }
      },
      "execution_count": null,
      "outputs": [
        {
          "output_type": "execute_result",
          "data": {
            "text/plain": [
              "'Francia'"
            ],
            "application/vnd.google.colaboratory.intrinsic+json": {
              "type": "string"
            }
          },
          "metadata": {},
          "execution_count": 34
        }
      ]
    },
    {
      "cell_type": "code",
      "source": [
        "#La tecnica del slicing nos permite cortar pedazos de lista y guardarlos en una variable\n",
        "#cortemos\n",
        "paises [1:3]"
      ],
      "metadata": {
        "id": "FDYepPpV6E6b",
        "outputId": "82075f80-58f3-44cd-d0eb-647ec0195d88",
        "colab": {
          "base_uri": "https://localhost:8080/"
        }
      },
      "execution_count": null,
      "outputs": [
        {
          "output_type": "execute_result",
          "data": {
            "text/plain": [
              "['Ecuador', 'Mexico']"
            ]
          },
          "metadata": {},
          "execution_count": 35
        }
      ]
    },
    {
      "cell_type": "code",
      "source": [
        "corte_paises=paises [1:3]\n",
        "corte_paises"
      ],
      "metadata": {
        "id": "v-HevQRa60n-",
        "outputId": "e1627c94-cd92-4004-9005-396748315d43",
        "colab": {
          "base_uri": "https://localhost:8080/"
        }
      },
      "execution_count": null,
      "outputs": [
        {
          "output_type": "execute_result",
          "data": {
            "text/plain": [
              "['Ecuador', 'Mexico']"
            ]
          },
          "metadata": {},
          "execution_count": 36
        }
      ]
    },
    {
      "cell_type": "code",
      "source": [
        "paises"
      ],
      "metadata": {
        "id": "OuNVvj8P7FpW",
        "outputId": "6259b097-5cec-4c68-c2f0-cd785461913a",
        "colab": {
          "base_uri": "https://localhost:8080/"
        }
      },
      "execution_count": null,
      "outputs": [
        {
          "output_type": "execute_result",
          "data": {
            "text/plain": [
              "['Colombia', 'Ecuador', 'Mexico', 'China', 'Francia', 'Paraguay']"
            ]
          },
          "metadata": {},
          "execution_count": 37
        }
      ]
    },
    {
      "cell_type": "code",
      "source": [
        "paises[1:]"
      ],
      "metadata": {
        "id": "EP9zNrsw7KAZ",
        "outputId": "a8a1830a-e5d6-442b-bbe1-b81ee339a949",
        "colab": {
          "base_uri": "https://localhost:8080/"
        }
      },
      "execution_count": null,
      "outputs": [
        {
          "output_type": "execute_result",
          "data": {
            "text/plain": [
              "['Ecuador', 'Mexico', 'China', 'Francia', 'Paraguay']"
            ]
          },
          "metadata": {},
          "execution_count": 38
        }
      ]
    },
    {
      "cell_type": "code",
      "source": [
        "paises[:5]"
      ],
      "metadata": {
        "id": "HcFrqxIL7S2D",
        "outputId": "d9ae9f61-9983-493a-ffbb-f4916e956c09",
        "colab": {
          "base_uri": "https://localhost:8080/"
        }
      },
      "execution_count": null,
      "outputs": [
        {
          "output_type": "execute_result",
          "data": {
            "text/plain": [
              "['Colombia', 'Ecuador', 'Mexico', 'China', 'Francia']"
            ]
          },
          "metadata": {},
          "execution_count": 39
        }
      ]
    },
    {
      "cell_type": "code",
      "source": [
        "#asi agrego elementos al final de la lista\n",
        "paises.append(\"RUSIA\")\n",
        "paises"
      ],
      "metadata": {
        "id": "qRmYsP3r7f2T",
        "outputId": "2d8bcbed-b60e-4e78-e380-3f0ce1ce89c3",
        "colab": {
          "base_uri": "https://localhost:8080/"
        }
      },
      "execution_count": null,
      "outputs": [
        {
          "output_type": "execute_result",
          "data": {
            "text/plain": [
              "['Colombia', 'Ecuador', 'Mexico', 'China', 'Francia', 'Paraguay', 'RUSIA']"
            ]
          },
          "metadata": {},
          "execution_count": 40
        }
      ]
    },
    {
      "cell_type": "code",
      "source": [
        "#Para agregar un dato en la posicion de la lista que yo quiera uso insert\n",
        "paises.insert(0,\"Venezuela\")"
      ],
      "metadata": {
        "id": "0N_OgexO71yq"
      },
      "execution_count": null,
      "outputs": []
    },
    {
      "cell_type": "code",
      "source": [
        "paises"
      ],
      "metadata": {
        "id": "JAQoC2dF8J-Q",
        "outputId": "710637e6-1c3c-4bcc-8499-80aa2e352e42",
        "colab": {
          "base_uri": "https://localhost:8080/"
        }
      },
      "execution_count": null,
      "outputs": [
        {
          "output_type": "execute_result",
          "data": {
            "text/plain": [
              "['Venezuela',\n",
              " 'Colombia',\n",
              " 'Ecuador',\n",
              " 'Mexico',\n",
              " 'China',\n",
              " 'Francia',\n",
              " 'Paraguay',\n",
              " 'RUSIA']"
            ]
          },
          "metadata": {},
          "execution_count": 42
        }
      ]
    },
    {
      "cell_type": "code",
      "source": [
        "paises"
      ],
      "metadata": {
        "id": "nvWKC0r48Pd1",
        "outputId": "a3aec7a8-6d04-4498-ed2b-b0c920789a64",
        "colab": {
          "base_uri": "https://localhost:8080/"
        }
      },
      "execution_count": null,
      "outputs": [
        {
          "output_type": "execute_result",
          "data": {
            "text/plain": [
              "['Venezuela',\n",
              " 'Colombia',\n",
              " 'Ecuador',\n",
              " 'Mexico',\n",
              " 'China',\n",
              " 'Francia',\n",
              " 'Paraguay',\n",
              " 'RUSIA']"
            ]
          },
          "metadata": {},
          "execution_count": 43
        }
      ]
    },
    {
      "cell_type": "code",
      "source": [
        "#Tambien puedo concatenar listas de paises\n",
        "paises_europa=[\"Italia\",\"Alemania\",\"portugal\",\"Polonia\"]\n",
        "paises_europa"
      ],
      "metadata": {
        "id": "UKSVWEX58Ujk",
        "outputId": "77b4fe31-4ca3-4c47-9bbf-721da29afd3e",
        "colab": {
          "base_uri": "https://localhost:8080/"
        }
      },
      "execution_count": null,
      "outputs": [
        {
          "output_type": "execute_result",
          "data": {
            "text/plain": [
              "['Italia', 'Alemania', 'portugal', 'Polonia']"
            ]
          },
          "metadata": {},
          "execution_count": 44
        }
      ]
    },
    {
      "cell_type": "code",
      "source": [
        "paises_completo=paises+paises_europa\n",
        "paises_completo"
      ],
      "metadata": {
        "id": "9B0mhScj8xUV",
        "outputId": "4ae23dc3-d48d-47d2-d532-e0991ba3a2c8",
        "colab": {
          "base_uri": "https://localhost:8080/"
        }
      },
      "execution_count": null,
      "outputs": [
        {
          "output_type": "execute_result",
          "data": {
            "text/plain": [
              "['Venezuela',\n",
              " 'Colombia',\n",
              " 'Ecuador',\n",
              " 'Mexico',\n",
              " 'China',\n",
              " 'Francia',\n",
              " 'Paraguay',\n",
              " 'RUSIA',\n",
              " 'Italia',\n",
              " 'Alemania',\n",
              " 'portugal',\n",
              " 'Polonia']"
            ]
          },
          "metadata": {},
          "execution_count": 45
        }
      ]
    },
    {
      "cell_type": "code",
      "source": [
        "paises_completos_listas=[paises,paises_europa]\n",
        "paises_completos_listas"
      ],
      "metadata": {
        "id": "BFCU1keU8-pJ",
        "outputId": "296b740a-e422-4e91-f9e2-5c7192091065",
        "colab": {
          "base_uri": "https://localhost:8080/"
        }
      },
      "execution_count": null,
      "outputs": [
        {
          "output_type": "execute_result",
          "data": {
            "text/plain": [
              "[['Venezuela',\n",
              "  'Colombia',\n",
              "  'Ecuador',\n",
              "  'Mexico',\n",
              "  'China',\n",
              "  'Francia',\n",
              "  'Paraguay',\n",
              "  'RUSIA'],\n",
              " ['Italia', 'Alemania', 'portugal', 'Polonia']]"
            ]
          },
          "metadata": {},
          "execution_count": 46
        }
      ]
    },
    {
      "cell_type": "code",
      "source": [
        "Nombre=\"Erika\"\n",
        "Apellido=\"Ordoñez\"\n",
        "Edad=30\n",
        "Cedula=1073165623\n",
        "Estado_civil=\"Soltera\"\n",
        "Estatura=1.55"
      ],
      "metadata": {
        "id": "zKsbOL5b-BVK"
      },
      "execution_count": null,
      "outputs": []
    },
    {
      "cell_type": "code",
      "source": [
        "Lista_Informacion=[Nombre,Apellido,Edad,Cedula,Estado_civil,Estatura]"
      ],
      "metadata": {
        "id": "h4x0PPfPBkym"
      },
      "execution_count": null,
      "outputs": []
    },
    {
      "cell_type": "code",
      "source": [
        "Lista_Informacion"
      ],
      "metadata": {
        "colab": {
          "base_uri": "https://localhost:8080/"
        },
        "id": "OAyRbZmTCTmd",
        "outputId": "2f102a6e-f74a-485d-df7a-d438a8518358"
      },
      "execution_count": null,
      "outputs": [
        {
          "output_type": "execute_result",
          "data": {
            "text/plain": [
              "['Erika', 'Ordoñez', 30, 1073165623, 'Soltera', 1.55]"
            ]
          },
          "metadata": {},
          "execution_count": 49
        }
      ]
    },
    {
      "cell_type": "code",
      "source": [
        "Familiares=[ ]"
      ],
      "metadata": {
        "id": "Zis6gVWVCYjf"
      },
      "execution_count": null,
      "outputs": []
    },
    {
      "cell_type": "code",
      "source": [
        "Familiares.append(\"Maria\")\n",
        "Familiares.append(\"Luis\")\n",
        "Familiares.append(\"Camila\")\n",
        "Familiares.append(\"Julian\")\n",
        "Familiares.append(\"Cristian\")"
      ],
      "metadata": {
        "id": "9EtCNmxQFCrG"
      },
      "execution_count": null,
      "outputs": []
    },
    {
      "cell_type": "code",
      "source": [
        "Familiares"
      ],
      "metadata": {
        "colab": {
          "base_uri": "https://localhost:8080/"
        },
        "id": "ygz9GTMGH9nA",
        "outputId": "2c657333-4f59-4ef3-ff2e-74701fff3241"
      },
      "execution_count": null,
      "outputs": [
        {
          "output_type": "execute_result",
          "data": {
            "text/plain": [
              "['Maria', 'Luis', 'Camila', 'Julian', 'Cristian']"
            ]
          },
          "metadata": {},
          "execution_count": 52
        }
      ]
    },
    {
      "cell_type": "code",
      "source": [
        "Familiares.insert(1,50)"
      ],
      "metadata": {
        "id": "Py16M0XSKSzF"
      },
      "execution_count": null,
      "outputs": []
    },
    {
      "cell_type": "code",
      "source": [
        "Familiares"
      ],
      "metadata": {
        "colab": {
          "base_uri": "https://localhost:8080/"
        },
        "id": "OEFhgdTUKZG5",
        "outputId": "61c46bab-a4aa-43b1-a523-ee3aad395730"
      },
      "execution_count": null,
      "outputs": [
        {
          "output_type": "execute_result",
          "data": {
            "text/plain": [
              "['Maria', 50, 'Luis', 'Camila', 'Julian', 'Cristian']"
            ]
          },
          "metadata": {},
          "execution_count": 54
        }
      ]
    },
    {
      "cell_type": "code",
      "source": [
        "Familiares.insert(3,40)"
      ],
      "metadata": {
        "id": "fmRbelziKbo0"
      },
      "execution_count": null,
      "outputs": []
    },
    {
      "cell_type": "code",
      "source": [
        "Familiares"
      ],
      "metadata": {
        "colab": {
          "base_uri": "https://localhost:8080/"
        },
        "id": "MomYdqTTKhwZ",
        "outputId": "8b1d264e-900d-41ec-85e0-141b46b3d05c"
      },
      "execution_count": null,
      "outputs": [
        {
          "output_type": "execute_result",
          "data": {
            "text/plain": [
              "['Maria', 50, 'Luis', 40, 'Camila', 'Julian', 'Cristian']"
            ]
          },
          "metadata": {},
          "execution_count": 56
        }
      ]
    },
    {
      "cell_type": "code",
      "source": [
        "Edad_1=input(\"Hola,que te parece si antes de apostar tu casa, vemos si eres mayor de edad, ingresa tu edad: \")"
      ],
      "metadata": {
        "colab": {
          "base_uri": "https://localhost:8080/"
        },
        "id": "hEE_45lUKiz5",
        "outputId": "3843d832-41a3-40ca-cb4c-ea80071db83e"
      },
      "execution_count": null,
      "outputs": [
        {
          "name": "stdout",
          "output_type": "stream",
          "text": [
            "Hola,que te parece si antes de apostar tu casa, vemos si eres mayor de edad, ingresa tu edad: 20\n"
          ]
        }
      ]
    },
    {
      "cell_type": "code",
      "source": [
        "#Para ingresar datos se usa la funcion input\n",
        "Nombre_2=input(\"Ingresa tu nombre: \")\n",
        "print(\"La verdad hoy estad terrible\",Nombre_2)"
      ],
      "metadata": {
        "colab": {
          "base_uri": "https://localhost:8080/"
        },
        "id": "YvgWH8JzKxWH",
        "outputId": "77243707-a6b3-4439-c0ea-794644835aa0"
      },
      "execution_count": null,
      "outputs": [
        {
          "output_type": "stream",
          "name": "stdout",
          "text": [
            "Ingresa tu nombre: erika\n",
            "La verdad hoy estad terrible erika\n"
          ]
        }
      ]
    },
    {
      "cell_type": "code",
      "source": [
        "paises"
      ],
      "metadata": {
        "colab": {
          "base_uri": "https://localhost:8080/"
        },
        "id": "NduHIqE4LSep",
        "outputId": "c1a8c98a-9421-4f68-d187-5d8b8835b804"
      },
      "execution_count": null,
      "outputs": [
        {
          "output_type": "execute_result",
          "data": {
            "text/plain": [
              "['Venezuela',\n",
              " 'Colombia',\n",
              " 'Ecuador',\n",
              " 'Mexico',\n",
              " 'China',\n",
              " 'Francia',\n",
              " 'Paraguay',\n",
              " 'RUSIA']"
            ]
          },
          "metadata": {},
          "execution_count": 59
        }
      ]
    },
    {
      "cell_type": "code",
      "source": [
        "#Para remover datos de las listas utilizo el metodo remove\n",
        "paises.remove(\"RUSIA\")"
      ],
      "metadata": {
        "id": "X2I31WIlLgMA"
      },
      "execution_count": null,
      "outputs": []
    },
    {
      "cell_type": "code",
      "source": [
        "paises"
      ],
      "metadata": {
        "colab": {
          "base_uri": "https://localhost:8080/"
        },
        "id": "zDl-QBUGLuJu",
        "outputId": "c3e6420a-6756-497f-99a9-04ef726d33f5"
      },
      "execution_count": null,
      "outputs": [
        {
          "output_type": "execute_result",
          "data": {
            "text/plain": [
              "['Venezuela', 'Colombia', 'Ecuador', 'Mexico', 'China', 'Francia', 'Paraguay']"
            ]
          },
          "metadata": {},
          "execution_count": 61
        }
      ]
    },
    {
      "cell_type": "code",
      "source": [
        "#Otro metodo para eliminar es el metodo pop. este me permite eliminar por posicion\n",
        "paises.pop(4)"
      ],
      "metadata": {
        "colab": {
          "base_uri": "https://localhost:8080/",
          "height": 35
        },
        "id": "jG5lEQCpLyNT",
        "outputId": "ce3bab07-8bb7-45b4-b292-6c60220ef866"
      },
      "execution_count": null,
      "outputs": [
        {
          "output_type": "execute_result",
          "data": {
            "text/plain": [
              "'China'"
            ],
            "application/vnd.google.colaboratory.intrinsic+json": {
              "type": "string"
            }
          },
          "metadata": {},
          "execution_count": 62
        }
      ]
    },
    {
      "cell_type": "code",
      "source": [
        "paises"
      ],
      "metadata": {
        "colab": {
          "base_uri": "https://localhost:8080/"
        },
        "id": "Ig-UsmtwMFUU",
        "outputId": "be120253-4265-42b0-98b5-cb5e2d8cc0d2"
      },
      "execution_count": null,
      "outputs": [
        {
          "output_type": "execute_result",
          "data": {
            "text/plain": [
              "['Venezuela', 'Colombia', 'Ecuador', 'Mexico', 'Francia', 'Paraguay']"
            ]
          },
          "metadata": {},
          "execution_count": 63
        }
      ]
    },
    {
      "cell_type": "code",
      "source": [
        "#Para eliminar definitivamente se usa del\n",
        "del paises[4]"
      ],
      "metadata": {
        "id": "7lb5MHySMGaS"
      },
      "execution_count": null,
      "outputs": []
    },
    {
      "cell_type": "code",
      "source": [
        "paises"
      ],
      "metadata": {
        "colab": {
          "base_uri": "https://localhost:8080/"
        },
        "id": "yCiMaxl8Mk34",
        "outputId": "ecb227bb-b6d8-4927-a8b8-9d148aa05512"
      },
      "execution_count": null,
      "outputs": [
        {
          "output_type": "execute_result",
          "data": {
            "text/plain": [
              "['Venezuela', 'Colombia', 'Ecuador', 'Mexico', 'Paraguay']"
            ]
          },
          "metadata": {},
          "execution_count": 65
        }
      ]
    },
    {
      "cell_type": "code",
      "source": [
        "#Ordenar las listas, las puedo ordenar de menor a mayor o alfabeticamente con el metodo sort\n",
        "paises.sort()"
      ],
      "metadata": {
        "id": "OcX4_8BUMu7Z"
      },
      "execution_count": null,
      "outputs": []
    },
    {
      "cell_type": "code",
      "source": [
        "paises"
      ],
      "metadata": {
        "colab": {
          "base_uri": "https://localhost:8080/"
        },
        "id": "aCDDdjixOZu4",
        "outputId": "96565690-2a6f-4f81-e721-f3011043e5ea"
      },
      "execution_count": null,
      "outputs": [
        {
          "output_type": "execute_result",
          "data": {
            "text/plain": [
              "['Colombia', 'Ecuador', 'Mexico', 'Paraguay', 'Venezuela']"
            ]
          },
          "metadata": {},
          "execution_count": 67
        }
      ]
    },
    {
      "cell_type": "code",
      "source": [
        "digitos=[2,3,5,3,6,8,0,1,9]\n",
        "digitos.sort()\n",
        "digitos"
      ],
      "metadata": {
        "colab": {
          "base_uri": "https://localhost:8080/"
        },
        "id": "20dy9e8TOasS",
        "outputId": "0160075f-2070-4d56-d199-9c0881046a9e"
      },
      "execution_count": null,
      "outputs": [
        {
          "output_type": "execute_result",
          "data": {
            "text/plain": [
              "[0, 1, 2, 3, 3, 5, 6, 8, 9]"
            ]
          },
          "metadata": {},
          "execution_count": 68
        }
      ]
    },
    {
      "cell_type": "code",
      "source": [
        "digitos.sort(reverse=True)"
      ],
      "metadata": {
        "id": "rRaTYqjCOseP"
      },
      "execution_count": null,
      "outputs": []
    },
    {
      "cell_type": "code",
      "source": [
        "digitos"
      ],
      "metadata": {
        "colab": {
          "base_uri": "https://localhost:8080/"
        },
        "id": "T-grOUcfO7Ip",
        "outputId": "af91c684-c5b4-41a8-b0a5-edd1f4576ca2"
      },
      "execution_count": null,
      "outputs": [
        {
          "output_type": "execute_result",
          "data": {
            "text/plain": [
              "[9, 8, 6, 5, 3, 3, 2, 1, 0]"
            ]
          },
          "metadata": {},
          "execution_count": 70
        }
      ]
    },
    {
      "cell_type": "code",
      "source": [
        "paises.sort(reverse=True)"
      ],
      "metadata": {
        "id": "3_qmZW6gO8bb"
      },
      "execution_count": null,
      "outputs": []
    },
    {
      "cell_type": "code",
      "source": [
        "paises"
      ],
      "metadata": {
        "colab": {
          "base_uri": "https://localhost:8080/"
        },
        "id": "lRKvYtDzPAzM",
        "outputId": "87fa22ba-8c7d-4e35-845c-00ec1a5aa743"
      },
      "execution_count": null,
      "outputs": [
        {
          "output_type": "execute_result",
          "data": {
            "text/plain": [
              "['Venezuela', 'Paraguay', 'Mexico', 'Ecuador', 'Colombia']"
            ]
          },
          "metadata": {},
          "execution_count": 72
        }
      ]
    },
    {
      "cell_type": "code",
      "source": [
        "#PARA HACER UNA COPIA\n",
        "Paises_copia_verdadera=paises.copy()\n",
        "Paises_copia_verdadera"
      ],
      "metadata": {
        "colab": {
          "base_uri": "https://localhost:8080/"
        },
        "id": "6NWheZOrPBbp",
        "outputId": "67c81cd1-d543-4909-927a-488cc00dfaec"
      },
      "execution_count": null,
      "outputs": [
        {
          "output_type": "execute_result",
          "data": {
            "text/plain": [
              "['Venezuela', 'Paraguay', 'Mexico', 'Ecuador', 'Colombia']"
            ]
          },
          "metadata": {},
          "execution_count": 73
        }
      ]
    },
    {
      "cell_type": "code",
      "source": [
        "paises_copia_verdadeera_2=paises[:]\n",
        "paises_copia_verdadeera_2"
      ],
      "metadata": {
        "colab": {
          "base_uri": "https://localhost:8080/"
        },
        "id": "kYcLPGSbPq8U",
        "outputId": "d74a4e7f-1e69-4400-a0af-de65c7ff9d96"
      },
      "execution_count": null,
      "outputs": [
        {
          "output_type": "execute_result",
          "data": {
            "text/plain": [
              "['Venezuela', 'Paraguay', 'Mexico', 'Ecuador', 'Colombia']"
            ]
          },
          "metadata": {},
          "execution_count": 74
        }
      ]
    },
    {
      "cell_type": "code",
      "source": [
        "#Diccionarios: son tipos de datos que tienen una llave y un valor, a la combinacion de llave con valor, se le conoce como items, en los diccionarios puedo usar metodos parecidos a las de lista\n",
        "diccionario_ing_esp={\"casa\":\"house\",\"entender\":\"undersrtand\",\"sediento\":\"thirty\",\"rojo\":\"red\",\"ocupado\":\"busy\"}\n",
        "diccionario_ing_esp"
      ],
      "metadata": {
        "colab": {
          "base_uri": "https://localhost:8080/"
        },
        "id": "V6JA9CBIP8Bf",
        "outputId": "b796f2d4-c1eb-41ed-8b15-c8c99fd31cb1"
      },
      "execution_count": null,
      "outputs": [
        {
          "output_type": "execute_result",
          "data": {
            "text/plain": [
              "{'casa': 'house',\n",
              " 'entender': 'undersrtand',\n",
              " 'sediento': 'thirty',\n",
              " 'rojo': 'red',\n",
              " 'ocupado': 'busy'}"
            ]
          },
          "metadata": {},
          "execution_count": 75
        }
      ]
    },
    {
      "cell_type": "code",
      "source": [
        "#Para ver un valor de una llave determinada lo hago de la siguiente manera\n",
        "diccionario_ing_esp[\"casa\"]"
      ],
      "metadata": {
        "colab": {
          "base_uri": "https://localhost:8080/",
          "height": 35
        },
        "id": "eLRr0yonR_Pn",
        "outputId": "0fc72fee-c896-461d-8885-235c45c2f9cb"
      },
      "execution_count": null,
      "outputs": [
        {
          "output_type": "execute_result",
          "data": {
            "text/plain": [
              "'house'"
            ],
            "application/vnd.google.colaboratory.intrinsic+json": {
              "type": "string"
            }
          },
          "metadata": {},
          "execution_count": 76
        }
      ]
    },
    {
      "cell_type": "code",
      "source": [
        "#Para trae todas las llaves de un diccionari, puedo usar el metodo keys\n",
        "diccionario_ing_esp.keys()"
      ],
      "metadata": {
        "colab": {
          "base_uri": "https://localhost:8080/"
        },
        "id": "o8un_bE6STs-",
        "outputId": "c3b06cae-fa05-4413-928e-dfc65f6e8f49"
      },
      "execution_count": null,
      "outputs": [
        {
          "output_type": "execute_result",
          "data": {
            "text/plain": [
              "dict_keys(['casa', 'entender', 'sediento', 'rojo', 'ocupado'])"
            ]
          },
          "metadata": {},
          "execution_count": 77
        }
      ]
    },
    {
      "cell_type": "code",
      "source": [
        "#Para trae lo svalores de los diccionaros usamos values\n",
        "diccionario_ing_esp.values()"
      ],
      "metadata": {
        "colab": {
          "base_uri": "https://localhost:8080/"
        },
        "id": "BAfgjl7HSoym",
        "outputId": "3e57d4a4-736b-4563-dd06-7837334c8237"
      },
      "execution_count": null,
      "outputs": [
        {
          "output_type": "execute_result",
          "data": {
            "text/plain": [
              "dict_values(['house', 'undersrtand', 'thirty', 'red', 'busy'])"
            ]
          },
          "metadata": {},
          "execution_count": 78
        }
      ]
    },
    {
      "cell_type": "code",
      "source": [
        "#Para mostrar toda la info del diccionario\n",
        "diccionario_ing_esp"
      ],
      "metadata": {
        "colab": {
          "base_uri": "https://localhost:8080/"
        },
        "id": "-pTxz6CMS2i6",
        "outputId": "bfdc3cc5-f18f-4eee-f6c2-947970ee1f15"
      },
      "execution_count": null,
      "outputs": [
        {
          "output_type": "execute_result",
          "data": {
            "text/plain": [
              "{'casa': 'house',\n",
              " 'entender': 'undersrtand',\n",
              " 'sediento': 'thirty',\n",
              " 'rojo': 'red',\n",
              " 'ocupado': 'busy'}"
            ]
          },
          "metadata": {},
          "execution_count": 79
        }
      ]
    },
    {
      "cell_type": "code",
      "source": [
        "diccionario_ing_esp.items()"
      ],
      "metadata": {
        "colab": {
          "base_uri": "https://localhost:8080/"
        },
        "id": "YR0SJqtwS7dL",
        "outputId": "6e2ebb21-55b0-4398-b41f-60b59f95db8c"
      },
      "execution_count": null,
      "outputs": [
        {
          "output_type": "execute_result",
          "data": {
            "text/plain": [
              "dict_items([('casa', 'house'), ('entender', 'undersrtand'), ('sediento', 'thirty'), ('rojo', 'red'), ('ocupado', 'busy')])"
            ]
          },
          "metadata": {},
          "execution_count": 80
        }
      ]
    },
    {
      "cell_type": "code",
      "source": [
        "#para agregar un nuevo elemento a un diccionario lo hago de la siguiente manera\n",
        "diccionario_ing_esp[\"azul\"]=\"blue\"\n",
        "diccionario_ing_esp"
      ],
      "metadata": {
        "colab": {
          "base_uri": "https://localhost:8080/"
        },
        "id": "IwoVGjSeTCb9",
        "outputId": "38d4ceaf-965b-4dfd-a922-a569a6e5c822"
      },
      "execution_count": null,
      "outputs": [
        {
          "output_type": "execute_result",
          "data": {
            "text/plain": [
              "{'casa': 'house',\n",
              " 'entender': 'undersrtand',\n",
              " 'sediento': 'thirty',\n",
              " 'rojo': 'red',\n",
              " 'ocupado': 'busy',\n",
              " 'azul': 'blue'}"
            ]
          },
          "metadata": {},
          "execution_count": 81
        }
      ]
    },
    {
      "cell_type": "code",
      "source": [
        "#para actualizar un dato usamos update, sirve para ingresar tambien\n",
        "diccionario_ing_esp.update({\"negro\":\"black\"})\n",
        "diccionario_ing_esp"
      ],
      "metadata": {
        "colab": {
          "base_uri": "https://localhost:8080/"
        },
        "id": "OoMdmR4FTaTj",
        "outputId": "5bc47a2b-4e61-46d7-d9c2-bbf5359ac28d"
      },
      "execution_count": null,
      "outputs": [
        {
          "output_type": "execute_result",
          "data": {
            "text/plain": [
              "{'casa': 'house',\n",
              " 'entender': 'undersrtand',\n",
              " 'sediento': 'thirty',\n",
              " 'rojo': 'red',\n",
              " 'ocupado': 'busy',\n",
              " 'azul': 'blue',\n",
              " 'negro': 'black'}"
            ]
          },
          "metadata": {},
          "execution_count": 82
        }
      ]
    },
    {
      "cell_type": "code",
      "source": [
        "#Tambien puedo agregar una lista dentro de un diccionario\n",
        "diccionario_ing_esp.update({\"gris\":\"grey\",\"pronombres\":[\"he\",\"she\",\"it\"]})"
      ],
      "metadata": {
        "id": "FO5voTtsUDZK"
      },
      "execution_count": null,
      "outputs": []
    },
    {
      "cell_type": "code",
      "source": [
        "diccionario_ing_esp"
      ],
      "metadata": {
        "colab": {
          "base_uri": "https://localhost:8080/"
        },
        "id": "0p6AEHYsUwss",
        "outputId": "1f98adb4-9902-455f-e505-390012232b20"
      },
      "execution_count": null,
      "outputs": [
        {
          "output_type": "execute_result",
          "data": {
            "text/plain": [
              "{'casa': 'house',\n",
              " 'entender': 'undersrtand',\n",
              " 'sediento': 'thirty',\n",
              " 'rojo': 'red',\n",
              " 'ocupado': 'busy',\n",
              " 'azul': 'blue',\n",
              " 'negro': 'black',\n",
              " 'gris': 'grey',\n",
              " 'pronombres': ['he', 'she', 'it']}"
            ]
          },
          "metadata": {},
          "execution_count": 84
        }
      ]
    },
    {
      "cell_type": "code",
      "source": [
        "diccionario_ing_esp.values()"
      ],
      "metadata": {
        "colab": {
          "base_uri": "https://localhost:8080/"
        },
        "id": "QYhIXZd4U8gH",
        "outputId": "f7fe69db-7d06-4055-ec4a-5b74a247fe41"
      },
      "execution_count": null,
      "outputs": [
        {
          "output_type": "execute_result",
          "data": {
            "text/plain": [
              "dict_values(['house', 'undersrtand', 'thirty', 'red', 'busy', 'blue', 'black', 'grey', ['he', 'she', 'it']])"
            ]
          },
          "metadata": {},
          "execution_count": 85
        }
      ]
    },
    {
      "cell_type": "code",
      "source": [
        "#Para borrar datos uso el metodo pop\n",
        "diccionario_ing_esp.pop(\"gris\")"
      ],
      "metadata": {
        "colab": {
          "base_uri": "https://localhost:8080/",
          "height": 35
        },
        "id": "cXAYe6I6VJlH",
        "outputId": "742df926-56f5-41ae-b5a8-3af6c04f1265"
      },
      "execution_count": null,
      "outputs": [
        {
          "output_type": "execute_result",
          "data": {
            "text/plain": [
              "'grey'"
            ],
            "application/vnd.google.colaboratory.intrinsic+json": {
              "type": "string"
            }
          },
          "metadata": {},
          "execution_count": 86
        }
      ]
    },
    {
      "cell_type": "code",
      "source": [
        "diccionario_ing_esp"
      ],
      "metadata": {
        "colab": {
          "base_uri": "https://localhost:8080/"
        },
        "id": "01eZ6picVjLk",
        "outputId": "2c7e5d18-a043-4e05-f07c-af5a9ab58587"
      },
      "execution_count": null,
      "outputs": [
        {
          "output_type": "execute_result",
          "data": {
            "text/plain": [
              "{'casa': 'house',\n",
              " 'entender': 'undersrtand',\n",
              " 'sediento': 'thirty',\n",
              " 'rojo': 'red',\n",
              " 'ocupado': 'busy',\n",
              " 'azul': 'blue',\n",
              " 'negro': 'black',\n",
              " 'pronombres': ['he', 'she', 'it']}"
            ]
          },
          "metadata": {},
          "execution_count": 87
        }
      ]
    },
    {
      "cell_type": "code",
      "source": [
        "#Para eliminar del diccionario podemos isar tambien del\n",
        "del diccionario_ing_esp [\"pronombres\"]"
      ],
      "metadata": {
        "id": "hJM4IAoNVlO4"
      },
      "execution_count": null,
      "outputs": []
    },
    {
      "cell_type": "code",
      "source": [
        "diccionario_ing_esp"
      ],
      "metadata": {
        "colab": {
          "base_uri": "https://localhost:8080/"
        },
        "id": "xS-nuALIVxG1",
        "outputId": "fbdc42c7-5007-43ee-c23a-34eeaf5bcc47"
      },
      "execution_count": null,
      "outputs": [
        {
          "output_type": "execute_result",
          "data": {
            "text/plain": [
              "{'casa': 'house',\n",
              " 'entender': 'undersrtand',\n",
              " 'sediento': 'thirty',\n",
              " 'rojo': 'red',\n",
              " 'ocupado': 'busy',\n",
              " 'azul': 'blue',\n",
              " 'negro': 'black'}"
            ]
          },
          "metadata": {},
          "execution_count": 89
        }
      ]
    },
    {
      "cell_type": "markdown",
      "source": [
        "OPERADORES LOGICOS\n",
        "\n",
        "Se usan para comprobar condiciones y devolver TRUE O FALSE dependiendo cual sea el caso, son escenciales para la toma de desiciones y para la logica de programacion"
      ],
      "metadata": {
        "id": "MZ-0LNgEbdyQ"
      }
    },
    {
      "cell_type": "code",
      "source": [
        "#El primero es AND y tradcec y\n",
        "print(\"operador AND(Que significa y)\")\n",
        "print(\"para que y sea verdadero todas las condiciones deben ser verdaderas\")\n",
        "5>3 and 5<10"
      ],
      "metadata": {
        "colab": {
          "base_uri": "https://localhost:8080/"
        },
        "id": "WU7oyBLwbdfm",
        "outputId": "271a39ea-e10e-457b-d65e-496ce1b5fdd2"
      },
      "execution_count": null,
      "outputs": [
        {
          "output_type": "stream",
          "name": "stdout",
          "text": [
            "operador AND(Que significa y)\n",
            "para que y sea verdadero todas las condiciones deben ser verdaderas\n"
          ]
        },
        {
          "output_type": "execute_result",
          "data": {
            "text/plain": [
              "True"
            ]
          },
          "metadata": {},
          "execution_count": 90
        }
      ]
    },
    {
      "cell_type": "code",
      "source": [
        "5<3 and 5>10"
      ],
      "metadata": {
        "colab": {
          "base_uri": "https://localhost:8080/"
        },
        "id": "iNdS2suYV-dO",
        "outputId": "f4a39372-3ba4-4fd4-eab1-5863f6364512"
      },
      "execution_count": null,
      "outputs": [
        {
          "output_type": "execute_result",
          "data": {
            "text/plain": [
              "False"
            ]
          },
          "metadata": {},
          "execution_count": 91
        }
      ]
    },
    {
      "cell_type": "code",
      "source": [
        "#Para usar o se usa la palabra reservada or, en or por lo menos una de las condiciones debe ser verdadera\n",
        "5<3 or 5>10"
      ],
      "metadata": {
        "colab": {
          "base_uri": "https://localhost:8080/"
        },
        "id": "iABsk_z3cUMP",
        "outputId": "15e55c43-d0c6-4a56-fbe2-192a3e174978"
      },
      "execution_count": null,
      "outputs": [
        {
          "output_type": "execute_result",
          "data": {
            "text/plain": [
              "False"
            ]
          },
          "metadata": {},
          "execution_count": 92
        }
      ]
    },
    {
      "cell_type": "code",
      "source": [
        "5<3 or 5<10"
      ],
      "metadata": {
        "colab": {
          "base_uri": "https://localhost:8080/"
        },
        "id": "rpPvAk5SczJw",
        "outputId": "8df9c703-4fe0-44ab-a89f-1717fe557543"
      },
      "execution_count": null,
      "outputs": [
        {
          "output_type": "execute_result",
          "data": {
            "text/plain": [
              "True"
            ]
          },
          "metadata": {},
          "execution_count": 93
        }
      ]
    },
    {
      "cell_type": "code",
      "source": [
        "#existe otro operador logico que es el NOT\n",
        "print(\"operador NOT(negacion logica)\")\n",
        "not 5>3"
      ],
      "metadata": {
        "colab": {
          "base_uri": "https://localhost:8080/"
        },
        "id": "yFF1l4Abc4Qq",
        "outputId": "5915c40b-5f0b-450e-d49f-28e49891fed7"
      },
      "execution_count": null,
      "outputs": [
        {
          "output_type": "stream",
          "name": "stdout",
          "text": [
            "operador NOT(negacion logica)\n"
          ]
        },
        {
          "output_type": "execute_result",
          "data": {
            "text/plain": [
              "False"
            ]
          },
          "metadata": {},
          "execution_count": 94
        }
      ]
    },
    {
      "cell_type": "markdown",
      "source": [
        "OPERACIONES MATEMATICAS\n",
        "\n",
        "En este momento solo usaremos las mas faciles, que son las escensiavles para cualquier leguaje de programacion, suma, resta, multiplicacion, division, potenciacion y modulo"
      ],
      "metadata": {
        "id": "kbANczILdjBJ"
      }
    },
    {
      "cell_type": "code",
      "source": [
        "#SUMA se representa con el simbolo + y funciona tambien para concatenar\n",
        "6+5"
      ],
      "metadata": {
        "colab": {
          "base_uri": "https://localhost:8080/"
        },
        "id": "I6rQgm6LdaHx",
        "outputId": "e9895fee-d1d3-47f4-d967-db316c1cd48e"
      },
      "execution_count": null,
      "outputs": [
        {
          "output_type": "execute_result",
          "data": {
            "text/plain": [
              "11"
            ]
          },
          "metadata": {},
          "execution_count": 95
        }
      ]
    },
    {
      "cell_type": "code",
      "source": [
        "#Resta se reprosenta con -\n",
        "6-5"
      ],
      "metadata": {
        "colab": {
          "base_uri": "https://localhost:8080/"
        },
        "id": "ImK9t2kXd390",
        "outputId": "c728a5d9-c389-44da-dd6d-16464336d518"
      },
      "execution_count": null,
      "outputs": [
        {
          "output_type": "execute_result",
          "data": {
            "text/plain": [
              "1"
            ]
          },
          "metadata": {},
          "execution_count": 96
        }
      ]
    },
    {
      "cell_type": "code",
      "source": [
        "#Multiplicacion se reprosenta con el asteriosco * , me sirve para multiplicar cadenas\n",
        "6*5"
      ],
      "metadata": {
        "colab": {
          "base_uri": "https://localhost:8080/"
        },
        "id": "vnAs8MZ0d9dc",
        "outputId": "75f6da67-188c-40c9-a244-5c7126b31699"
      },
      "execution_count": null,
      "outputs": [
        {
          "output_type": "execute_result",
          "data": {
            "text/plain": [
              "30"
            ]
          },
          "metadata": {},
          "execution_count": 97
        }
      ]
    },
    {
      "cell_type": "code",
      "source": [
        "#Division, uso el / y me da resultados con decimales\n",
        "37/3"
      ],
      "metadata": {
        "colab": {
          "base_uri": "https://localhost:8080/"
        },
        "id": "YCc08Y0PeFy7",
        "outputId": "e8b429fb-54e8-40ef-c326-d09a8655c01c"
      },
      "execution_count": null,
      "outputs": [
        {
          "output_type": "execute_result",
          "data": {
            "text/plain": [
              "12.333333333333334"
            ]
          },
          "metadata": {},
          "execution_count": 98
        }
      ]
    },
    {
      "cell_type": "code",
      "source": [
        "#Potenciacion se usa el doble asterisco **, primero la base y luego el exponente\n",
        "5**5"
      ],
      "metadata": {
        "colab": {
          "base_uri": "https://localhost:8080/"
        },
        "id": "yzAl-yjReb1C",
        "outputId": "b0d2af96-4964-4a64-9b27-b91ec5c4b27d"
      },
      "execution_count": null,
      "outputs": [
        {
          "output_type": "execute_result",
          "data": {
            "text/plain": [
              "3125"
            ]
          },
          "metadata": {},
          "execution_count": 99
        }
      ]
    },
    {
      "cell_type": "code",
      "source": [
        "#Modulo...para hacer el modulo uso el simbolo #\n",
        "23%4"
      ],
      "metadata": {
        "colab": {
          "base_uri": "https://localhost:8080/"
        },
        "id": "Pg5pK_s9emzi",
        "outputId": "f630fc03-7ed3-4a81-84ab-8fffd3f56138"
      },
      "execution_count": null,
      "outputs": [
        {
          "output_type": "execute_result",
          "data": {
            "text/plain": [
              "3"
            ]
          },
          "metadata": {},
          "execution_count": 100
        }
      ]
    },
    {
      "cell_type": "code",
      "source": [
        "#Operadores de comparacion, nos sirven como su nombre lo indica para comparar valores y saber si la comparacion es verdadera o falsa\n",
        "#Para comprar si dos valores son iguales uso el ==\n",
        "(3+2)==21"
      ],
      "metadata": {
        "colab": {
          "base_uri": "https://localhost:8080/"
        },
        "id": "1WNEuJkCfdvu",
        "outputId": "b9180b1d-fcb7-4dbb-d4ae-54e6727cef0b"
      },
      "execution_count": null,
      "outputs": [
        {
          "output_type": "execute_result",
          "data": {
            "text/plain": [
              "False"
            ]
          },
          "metadata": {},
          "execution_count": 101
        }
      ]
    },
    {
      "cell_type": "code",
      "source": [
        "(3+39)==42"
      ],
      "metadata": {
        "colab": {
          "base_uri": "https://localhost:8080/"
        },
        "id": "CcvKwIVSf2op",
        "outputId": "0bcc6868-6dfb-4908-889b-70dd444447d1"
      },
      "execution_count": null,
      "outputs": [
        {
          "output_type": "execute_result",
          "data": {
            "text/plain": [
              "True"
            ]
          },
          "metadata": {},
          "execution_count": 102
        }
      ]
    },
    {
      "cell_type": "code",
      "source": [
        "#Para hacer una compracion diferente de, uso !=\n",
        "(3+29)!=21"
      ],
      "metadata": {
        "colab": {
          "base_uri": "https://localhost:8080/"
        },
        "id": "BFmhCYgef58x",
        "outputId": "128f65a3-3e74-4041-b01f-c235d050ac81"
      },
      "execution_count": null,
      "outputs": [
        {
          "output_type": "execute_result",
          "data": {
            "text/plain": [
              "True"
            ]
          },
          "metadata": {},
          "execution_count": 103
        }
      ]
    },
    {
      "cell_type": "code",
      "source": [
        "#Mayor que >\n",
        "(3+29)>21"
      ],
      "metadata": {
        "colab": {
          "base_uri": "https://localhost:8080/"
        },
        "id": "51M0eJ11gFLv",
        "outputId": "ba8207f4-9d96-4544-d323-e96989eaeba7"
      },
      "execution_count": null,
      "outputs": [
        {
          "output_type": "execute_result",
          "data": {
            "text/plain": [
              "True"
            ]
          },
          "metadata": {},
          "execution_count": 104
        }
      ]
    },
    {
      "cell_type": "code",
      "source": [
        "(3+29)<21"
      ],
      "metadata": {
        "colab": {
          "base_uri": "https://localhost:8080/"
        },
        "id": "HHAlKdpngPCy",
        "outputId": "fde24d19-54e3-468c-ec4a-d951d34e6cda"
      },
      "execution_count": null,
      "outputs": [
        {
          "output_type": "execute_result",
          "data": {
            "text/plain": [
              "False"
            ]
          },
          "metadata": {},
          "execution_count": 105
        }
      ]
    },
    {
      "cell_type": "code",
      "source": [
        "#Menor o igual o mayor igual\n",
        "#>= Mayor o igual\n",
        "#<= Menor o igual\n",
        "(3+18)<=21"
      ],
      "metadata": {
        "colab": {
          "base_uri": "https://localhost:8080/"
        },
        "id": "EwASyCFtgSZH",
        "outputId": "f8ab1a4c-bb05-4981-bda1-78923c90ec51"
      },
      "execution_count": null,
      "outputs": [
        {
          "output_type": "execute_result",
          "data": {
            "text/plain": [
              "True"
            ]
          },
          "metadata": {},
          "execution_count": 106
        }
      ]
    },
    {
      "cell_type": "code",
      "source": [
        "(3+18)<=21"
      ],
      "metadata": {
        "colab": {
          "base_uri": "https://localhost:8080/"
        },
        "id": "cumucAzCgr1i",
        "outputId": "dd7cbcc9-b34a-42dc-f203-33a58787ccfa"
      },
      "execution_count": null,
      "outputs": [
        {
          "output_type": "execute_result",
          "data": {
            "text/plain": [
              "True"
            ]
          },
          "metadata": {},
          "execution_count": 107
        }
      ]
    },
    {
      "cell_type": "code",
      "source": [],
      "metadata": {
        "id": "41BVNVv3gut6"
      },
      "execution_count": null,
      "outputs": []
    },
    {
      "cell_type": "markdown",
      "source": [
        "CONDICIONALES\n",
        "\n",
        "Me permite ejecutar un bloque de codigo si la condicion es verdadera o falsa sirven como entes de control , su sintaxis es de la siguiente manera, las condicionales en python son; **IF**,**ELIF** Y **ELSE**"
      ],
      "metadata": {
        "id": "KUBFXorRg03l"
      }
    },
    {
      "cell_type": "code",
      "source": [
        "#IF CONDICION:\n",
        " #(Codigo que quiero ejecutar)\n",
        "#else:\n",
        " #(codigo a ejecutar)"
      ],
      "metadata": {
        "id": "2F-YXEN_hL42"
      },
      "execution_count": null,
      "outputs": []
    },
    {
      "cell_type": "code",
      "source": [
        "edad_michael=16\n",
        "if edad_michael >= 18:\n",
        "  print(\"Michael bienvenido, pero deberias estar trabajando\")\n",
        "else:\n",
        "  print(\"michel,estas muy chiquito\")"
      ],
      "metadata": {
        "colab": {
          "base_uri": "https://localhost:8080/"
        },
        "id": "rp7ktHJuhe0x",
        "outputId": "27ed7099-d344-4912-b28c-adb932578270"
      },
      "execution_count": null,
      "outputs": [
        {
          "output_type": "stream",
          "name": "stdout",
          "text": [
            "michel,estas muy chiquito\n"
          ]
        }
      ]
    },
    {
      "cell_type": "code",
      "source": [
        "edad_michael=16\n",
        "if edad_michael >= 19:\n",
        "  print(\"Michael bienvenido, pero deberias estar trabajando\")\n",
        "else:\n",
        "  print(\"michel,estas muy chiquito\")"
      ],
      "metadata": {
        "colab": {
          "base_uri": "https://localhost:8080/"
        },
        "id": "F2q4nk5_hwEH",
        "outputId": "56020f53-c132-4411-b8aa-9a67243a53ba"
      },
      "execution_count": null,
      "outputs": [
        {
          "output_type": "stream",
          "name": "stdout",
          "text": [
            "michel,estas muy chiquito\n"
          ]
        }
      ]
    },
    {
      "cell_type": "code",
      "source": [
        "edad_michael=19\n",
        "if edad_michael >= 18:\n",
        "  print(\"Michael bienvenido, pero deberias estar trabajando\")\n",
        "else:\n",
        "  print(\"michel,estas muy chiquito\")"
      ],
      "metadata": {
        "colab": {
          "base_uri": "https://localhost:8080/"
        },
        "id": "OXAjP-VZiXDI",
        "outputId": "24a31390-6d3f-4f0a-e2b8-4fa7d2d651c6"
      },
      "execution_count": null,
      "outputs": [
        {
          "output_type": "stream",
          "name": "stdout",
          "text": [
            "Michael bienvenido, pero deberias estar trabajando\n"
          ]
        }
      ]
    },
    {
      "cell_type": "code",
      "source": [
        "edad_usuarui=int(input(\"Hola para ingresar por favor comprueba tu edad\"))\n",
        "if edad_usuarui>=18:\n",
        "  print(\"Bienvenidos puedes apostar tu casa\")\n",
        "else:\n",
        "  print(\"Eres muy pqueño no puedes apostar\")"
      ],
      "metadata": {
        "colab": {
          "base_uri": "https://localhost:8080/"
        },
        "id": "jX7E1CPAiaof",
        "outputId": "b280ef59-b725-4141-d60b-173727eab4f0"
      },
      "execution_count": null,
      "outputs": [
        {
          "output_type": "stream",
          "name": "stdout",
          "text": [
            "Hola para ingresar por favor comprueba tu edad20\n",
            "Bienvenidos puedes apostar tu casa\n"
          ]
        }
      ]
    },
    {
      "cell_type": "code",
      "source": [
        "edad_usuarui=int(input(\"Hola para ingresar por favor comprueba tu edad\"))\n",
        "if edad_usuarui>=18:\n",
        "  print(\"Bienvenidos puedes apostar tu casa\")\n",
        "elif edad_usuarui >=13:\n",
        "    print(\"eres un adocelente, pero no te preocupes te ESPERAREMOS\")\n",
        "else:\n",
        "  print(\"Eres muy pqueño no puedes apostar\")"
      ],
      "metadata": {
        "colab": {
          "base_uri": "https://localhost:8080/"
        },
        "id": "v7BaIV69i6At",
        "outputId": "267dcf9a-5635-41c7-a1d2-ebb83c78946a"
      },
      "execution_count": null,
      "outputs": [
        {
          "output_type": "stream",
          "name": "stdout",
          "text": [
            "Hola para ingresar por favor comprueba tu edad20\n",
            "Bienvenidos puedes apostar tu casa\n"
          ]
        }
      ]
    },
    {
      "cell_type": "code",
      "source": [
        "paises"
      ],
      "metadata": {
        "colab": {
          "base_uri": "https://localhost:8080/"
        },
        "id": "EVsc6Axqj22a",
        "outputId": "b6861634-dbfe-47fd-ac72-b4010bb67305"
      },
      "execution_count": null,
      "outputs": [
        {
          "output_type": "execute_result",
          "data": {
            "text/plain": [
              "['Venezuela', 'Paraguay', 'Mexico', 'Ecuador', 'Colombia']"
            ]
          },
          "metadata": {},
          "execution_count": 114
        }
      ]
    },
    {
      "cell_type": "code",
      "source": [
        "if \"Francia\" in paises:\n",
        "  print(\"Esta no es una lista latinoamericana\")\n",
        "else:\n",
        "  print(\"los sudacas\")"
      ],
      "metadata": {
        "colab": {
          "base_uri": "https://localhost:8080/"
        },
        "id": "ndQVUnBHkMAu",
        "outputId": "a2a5dc18-0dbd-4714-a834-fae3189b42fe"
      },
      "execution_count": null,
      "outputs": [
        {
          "output_type": "stream",
          "name": "stdout",
          "text": [
            "los sudacas\n"
          ]
        }
      ]
    },
    {
      "cell_type": "code",
      "source": [],
      "metadata": {
        "id": "cliypUogkgwp"
      },
      "execution_count": null,
      "outputs": []
    },
    {
      "cell_type": "markdown",
      "source": [
        "CICLOS Y BUCLES\n",
        "\n",
        "son estructuras de codigo que me permiten iterar sobre una estructura o un rango, existen dos tipos de ciclos mas usados: los for que significa para, o los white que significa mientras que"
      ],
      "metadata": {
        "id": "EiJ5aMRKuD0X"
      }
    },
    {
      "cell_type": "code",
      "source": [
        "#de esta manera es la escructura de los ciclos for\n",
        "#for <variable>int<lista>:\n",
        "#<ejecutable>\n",
        "paises"
      ],
      "metadata": {
        "colab": {
          "base_uri": "https://localhost:8080/"
        },
        "id": "PAylI1JGuXn1",
        "outputId": "3770aa17-5336-4be1-8c08-97c11498b4fb"
      },
      "execution_count": null,
      "outputs": [
        {
          "output_type": "execute_result",
          "data": {
            "text/plain": [
              "['Venezuela', 'Paraguay', 'Mexico', 'Ecuador', 'Colombia']"
            ]
          },
          "metadata": {},
          "execution_count": 117
        }
      ]
    },
    {
      "cell_type": "code",
      "source": [
        "for i in paises:\n",
        "  print(i)"
      ],
      "metadata": {
        "colab": {
          "base_uri": "https://localhost:8080/"
        },
        "id": "gxXvsa9Evrho",
        "outputId": "8a518067-d474-4ea0-f826-1447358f98dd"
      },
      "execution_count": null,
      "outputs": [
        {
          "output_type": "stream",
          "name": "stdout",
          "text": [
            "Venezuela\n",
            "Paraguay\n",
            "Mexico\n",
            "Ecuador\n",
            "Colombia\n"
          ]
        }
      ]
    },
    {
      "cell_type": "code",
      "source": [
        "for i in paises:\n",
        "  if i == (\"Venezuela\"):\n",
        "    print(i,\"Este pais es influltrado\")"
      ],
      "metadata": {
        "colab": {
          "base_uri": "https://localhost:8080/"
        },
        "id": "7_-vKqnjwBxI",
        "outputId": "0d00bd9d-b3b8-45da-8d3f-7b0a31463441"
      },
      "execution_count": null,
      "outputs": [
        {
          "output_type": "stream",
          "name": "stdout",
          "text": [
            "Venezuela Este pais es influltrado\n"
          ]
        }
      ]
    },
    {
      "cell_type": "code",
      "source": [
        "for numero, i in enumerate(paises):\n",
        "  print(numero)\n",
        "  print(i)"
      ],
      "metadata": {
        "colab": {
          "base_uri": "https://localhost:8080/"
        },
        "id": "zebDV6owwy91",
        "outputId": "b3869783-5c1b-4f8c-b1c0-aaaf4b0cbf5f"
      },
      "execution_count": null,
      "outputs": [
        {
          "output_type": "stream",
          "name": "stdout",
          "text": [
            "0\n",
            "Venezuela\n",
            "1\n",
            "Paraguay\n",
            "2\n",
            "Mexico\n",
            "3\n",
            "Ecuador\n",
            "4\n",
            "Colombia\n"
          ]
        }
      ]
    },
    {
      "cell_type": "markdown",
      "source": [],
      "metadata": {
        "id": "bKICGEbCyHpj"
      }
    },
    {
      "cell_type": "code",
      "source": [],
      "metadata": {
        "id": "SQ7WFMoGMkBH"
      },
      "execution_count": null,
      "outputs": []
    },
    {
      "cell_type": "code",
      "source": [
        "#funcion len me da la longitud de un arreglo\n",
        "len(paises)"
      ],
      "metadata": {
        "colab": {
          "base_uri": "https://localhost:8080/"
        },
        "id": "6V9g2KWa3Pi6",
        "outputId": "b4e630b0-30bc-4c60-d572-fafc1258ca15"
      },
      "execution_count": null,
      "outputs": [
        {
          "output_type": "execute_result",
          "data": {
            "text/plain": [
              "5"
            ]
          },
          "metadata": {},
          "execution_count": 132
        }
      ]
    },
    {
      "cell_type": "code",
      "source": [
        "#funcion  max me sirve para mostrar el numero mas grande de unn arreglo\n",
        "max(1,5,3,6,7,2)"
      ],
      "metadata": {
        "colab": {
          "base_uri": "https://localhost:8080/"
        },
        "id": "SezJVgJkyHVZ",
        "outputId": "55699062-79b7-4dce-d6cf-8e45785b7def"
      },
      "execution_count": null,
      "outputs": [
        {
          "output_type": "execute_result",
          "data": {
            "text/plain": [
              "7"
            ]
          },
          "metadata": {},
          "execution_count": 133
        }
      ]
    },
    {
      "cell_type": "code",
      "source": [
        "#funcion min me sirve para mostrar ell numero mas bajo de unn arreglo\n",
        "min(0,1,6,4,2,6,2)"
      ],
      "metadata": {
        "colab": {
          "base_uri": "https://localhost:8080/"
        },
        "id": "eisLBsMjxoLC",
        "outputId": "4d0cd1fa-bc37-42e8-c862-daf0799b3c33"
      },
      "execution_count": null,
      "outputs": [
        {
          "output_type": "execute_result",
          "data": {
            "text/plain": [
              "0"
            ]
          },
          "metadata": {},
          "execution_count": 135
        }
      ]
    },
    {
      "cell_type": "code",
      "source": [
        "#tipe me sirve para saber el topo de dato de una variable\n",
        "type(paises)"
      ],
      "metadata": {
        "colab": {
          "base_uri": "https://localhost:8080/"
        },
        "id": "Sc_o_-j93se4",
        "outputId": "a5f0390c-ea1d-4475-eb85-9bde1497af3e"
      },
      "execution_count": null,
      "outputs": [
        {
          "output_type": "execute_result",
          "data": {
            "text/plain": [
              "list"
            ]
          },
          "metadata": {},
          "execution_count": 136
        }
      ]
    },
    {
      "cell_type": "code",
      "source": [
        "#round me sirve para redondear decimales\n",
        "round(3.141624,2)"
      ],
      "metadata": {
        "colab": {
          "base_uri": "https://localhost:8080/"
        },
        "id": "v5tuBg0V3-YD",
        "outputId": "661004df-60ab-476a-f21c-3bf2bddab558"
      },
      "execution_count": null,
      "outputs": [
        {
          "output_type": "execute_result",
          "data": {
            "text/plain": [
              "3.14"
            ]
          },
          "metadata": {},
          "execution_count": 139
        }
      ]
    },
    {
      "cell_type": "code",
      "source": [
        "#range nos sirve para crear una secuencia de numeros, tiene 3 argumetos, el unicio el final y el paso\n",
        "range(0,200,5)\n",
        "contando=range(0,205,5)"
      ],
      "metadata": {
        "id": "WXtpTK-84JuR"
      },
      "execution_count": null,
      "outputs": []
    },
    {
      "cell_type": "code",
      "source": [
        "for i in contando:\n",
        "  print(i)"
      ],
      "metadata": {
        "colab": {
          "base_uri": "https://localhost:8080/"
        },
        "id": "4XfcQnbZ4em7",
        "outputId": "91411cbd-5b12-40f8-a8ca-ad842a0366f7"
      },
      "execution_count": null,
      "outputs": [
        {
          "output_type": "stream",
          "name": "stdout",
          "text": [
            "0\n",
            "5\n",
            "10\n",
            "15\n",
            "20\n",
            "25\n",
            "30\n",
            "35\n",
            "40\n",
            "45\n",
            "50\n",
            "55\n",
            "60\n",
            "65\n",
            "70\n",
            "75\n",
            "80\n",
            "85\n",
            "90\n",
            "95\n",
            "100\n",
            "105\n",
            "110\n",
            "115\n",
            "120\n",
            "125\n",
            "130\n",
            "135\n",
            "140\n",
            "145\n",
            "150\n",
            "155\n",
            "160\n",
            "165\n",
            "170\n",
            "175\n",
            "180\n",
            "185\n",
            "190\n",
            "195\n",
            "200\n"
          ]
        }
      ]
    },
    {
      "cell_type": "code",
      "source": [
        "#las funciones propias son las que yo creo y me sirven para reutilizar codigo\n",
        "#la palabra reservada para declarar una funcion es def\n",
        "def suma(a,b):\n",
        "  resultado=(a+b)\n",
        "  return resultado"
      ],
      "metadata": {
        "id": "Zs90LNma4tk3"
      },
      "execution_count": null,
      "outputs": []
    },
    {
      "cell_type": "code",
      "source": [
        "suma(2,4)"
      ],
      "metadata": {
        "colab": {
          "base_uri": "https://localhost:8080/"
        },
        "id": "BzO3lH3H5UoO",
        "outputId": "9e7606a8-1895-47ff-cea3-b60e860e4b66"
      },
      "execution_count": null,
      "outputs": [
        {
          "output_type": "execute_result",
          "data": {
            "text/plain": [
              "6"
            ]
          },
          "metadata": {},
          "execution_count": 147
        }
      ]
    },
    {
      "cell_type": "code",
      "source": [
        "def pan(a,b):\n",
        "  precio_pan=a+b\n",
        "  return precio_pan"
      ],
      "metadata": {
        "id": "hJETETxF6qSU"
      },
      "execution_count": null,
      "outputs": []
    },
    {
      "cell_type": "code",
      "source": [
        "pan(5,500)"
      ],
      "metadata": {
        "colab": {
          "base_uri": "https://localhost:8080/"
        },
        "id": "cu1lXY4w8v8y",
        "outputId": "64f5a78d-0761-4abe-bd9d-9cb9e3b5feb6"
      },
      "execution_count": null,
      "outputs": [
        {
          "output_type": "execute_result",
          "data": {
            "text/plain": [
              "505"
            ]
          },
          "metadata": {},
          "execution_count": 171
        }
      ]
    },
    {
      "cell_type": "code",
      "source": [
        "cantidad=int(input(\"Buenos dias veci, cuantos panes quiere\"))\n",
        "valor=int(input(\"ingrese el valor\"))\n",
        "pan(cantidad,valor)"
      ],
      "metadata": {
        "colab": {
          "base_uri": "https://localhost:8080/"
        },
        "id": "d4bGh8kZ8yfx",
        "outputId": "7be41769-a83e-4cc7-9567-c63f299d8562"
      },
      "execution_count": null,
      "outputs": [
        {
          "name": "stdout",
          "output_type": "stream",
          "text": [
            "Buenos dias veci, cuantos panes quiere10\n",
            "ingrese el valor500\n"
          ]
        },
        {
          "output_type": "execute_result",
          "data": {
            "text/plain": [
              "510"
            ]
          },
          "metadata": {},
          "execution_count": 172
        }
      ]
    },
    {
      "cell_type": "code",
      "source": [
        "def division(a,b):\n",
        "  resulatado_division=a/b\n",
        "  return resulatado_division"
      ],
      "metadata": {
        "id": "cyRHBjfe9Duy"
      },
      "execution_count": null,
      "outputs": []
    },
    {
      "cell_type": "code",
      "source": [
        "division(2,7)"
      ],
      "metadata": {
        "colab": {
          "base_uri": "https://localhost:8080/"
        },
        "id": "OTOEEGue9SVf",
        "outputId": "4c155ebf-3e15-4f42-9975-3d401702c80c"
      },
      "execution_count": null,
      "outputs": [
        {
          "output_type": "execute_result",
          "data": {
            "text/plain": [
              "0.2857142857142857"
            ]
          },
          "metadata": {},
          "execution_count": 177
        }
      ]
    },
    {
      "cell_type": "markdown",
      "source": [
        "\n",
        "escribe un programa que calcule el total de una compra de supermercado el usuario debe ingresar el precio de dos productos y las candidales que desea comprar de cada uno debe permitir al usuario sumar los precios de amvos prodictos, muktiplicar el total de ambos para saber el total\n",
        "restar un descuento del precio total si el usuario tiene un cupon, dividir el total entre dos personas por si desean dividir la cuenta\n",
        "\n",
        "primera funcion multiplicar\n",
        "\n",
        "suma resta y division"
      ],
      "metadata": {
        "id": "NF48QVAx9qoX"
      }
    },
    {
      "cell_type": "code",
      "source": [
        "def suma_productos(a,b):\n",
        "  resultado_suma=a+b\n",
        "  return resultado_suma\n",
        "def Multiplicacion(a,b):\n",
        "  resultado_multiplicacion=a*b\n",
        "  return resultado_multiplicacion\n",
        "def dividir(a,b):\n",
        "  if b !=0:\n",
        "    return a/b\n",
        "  else:\n",
        "    return print(\"No se puede dividir entre 0\")\n",
        "def resta(a,b):\n",
        "  resultado_resta=a-b\n",
        "  return resultado_resta"
      ],
      "metadata": {
        "id": "Xbv_WXbI_ny-"
      },
      "execution_count": 6,
      "outputs": []
    },
    {
      "cell_type": "code",
      "source": [
        "print(\"Bienvenido a supermarket de la esquina\")\n",
        "precio_1=float(input(\"ingresa el precio de tu producto\"))\n",
        "cantidad_1 =int(input(\"ingrese la cantidad\"))\n",
        "precio_2=float(input(\"ingresa el precio de tu producto\"))\n",
        "cantidad_2=int(input(\"ingrese la cantidad\"))\n",
        "operacion=input(\"\"\"Bienvenido. como estas?, cuentame que quieres er\n",
        "1. sumar los precios de ambos productos\n",
        "2. calcular el costo total multiplicando precio por cantidad\n",
        "3. aplicar descuento al total\n",
        "4. divir la cuenta en dos\n",
        "no olvides que solo puedes eligir las opciones 1,2,3 y 4\"\"\")\n",
        "if operacion==\"1\":\n",
        "  total_precio=suma_productos(precio_1,precio_2)\n",
        "  print(total_precio)\n",
        "elif operacion==\"2\":\n",
        "  total_precio=suma_productos(Multiplicacion(precio_1,cantidad_1),Multiplicacion(precio_2,cantidad_2))\n",
        "  print(total_precio)\n",
        "elif operacion==\"3\":\n",
        "  total_precio=suma_productos(Multiplicacion(precio_1,cantidad_1),Multiplicacion(precio_2,cantidad_2))\n",
        "  Descuento=Multiplicacion(total_precio,0.10)\n",
        "  total_descuento=resta(total_precio,Descuento)\n",
        "  print(f'El total del descuento es:{total_descuento}')\n",
        "elif operacion==\"4\":\n",
        "  total_precio=suma_productos(Multiplicacion(precio_1,cantidad_1),Multiplicacion(precio_2,cantidad_2))\n",
        "  Descuento=Multiplicacion(total_precio,0.10)\n",
        "  total_descuento=resta(total_precio,Descuento)\n",
        "  total_persona=division(total_descuento,2)\n",
        "  print(f'Cada Persona debe cancelar:{total_persona}')"
      ],
      "metadata": {
        "colab": {
          "base_uri": "https://localhost:8080/"
        },
        "id": "upJ5MR8QC-wi",
        "outputId": "ee3b041c-68f7-480e-f27d-bc6f3f277c03"
      },
      "execution_count": 8,
      "outputs": [
        {
          "output_type": "stream",
          "name": "stdout",
          "text": [
            "Bienvenido a supermarket de la esquina\n",
            "ingresa el precio de tu producto100\n",
            "ingrese la cantidad2\n",
            "ingresa el precio de tu producto34\n",
            "ingrese la cantidad23\n",
            "Bienvenido. como estas?, cuentame que quieres er\n",
            "1. sumar los precios de ambos productos\n",
            "2. calcular el costo total multiplicando precio por cantidad\n",
            "3. aplicar descuento al total\n",
            "4. divir la cuenta en dos\n",
            "no olvides que solo puedes eligir las opciones 1,2,3 y 42\n",
            "982.0\n"
          ]
        }
      ]
    },
    {
      "cell_type": "code",
      "source": [],
      "metadata": {
        "id": "PZYFWJZqEOjF"
      },
      "execution_count": null,
      "outputs": []
    }
  ]
}