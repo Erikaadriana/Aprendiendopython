{
  "nbformat": 4,
  "nbformat_minor": 0,
  "metadata": {
    "colab": {
      "provenance": []
    },
    "kernelspec": {
      "name": "python3",
      "display_name": "Python 3"
    },
    "language_info": {
      "name": "python"
    }
  },
  "cells": [
    {
      "cell_type": "code",
      "execution_count": null,
      "metadata": {
        "colab": {
          "base_uri": "https://localhost:8080/"
        },
        "id": "OAPMfj7Kfq4c",
        "outputId": "e22109a0-d95d-4760-98b5-78ed041b8148"
      },
      "outputs": [
        {
          "output_type": "stream",
          "name": "stdout",
          "text": [
            "Hola ingresa tu edad: 10\n",
            "estas muy chiquito vuelve pronto\n"
          ]
        }
      ],
      "source": [
        "edad_usuario=int(input(\"Hola ingresa tu edad: \"))\n",
        "if edad_usuario >= 18:\n",
        "  print(\"Puedes ingresar\")\n",
        "else:\n",
        "  print(\"estas muy chiquito vuelve pronto\")"
      ]
    },
    {
      "cell_type": "code",
      "source": [
        "#creaun programa que calcule el cuadrado de un numero usando el potenciacion y pidiendo el numero por consola\n",
        "Numero_1=int(input(\"ingresa un numero: \"))\n",
        "Numerocuadrado=Numero_1**2\n",
        "print(\"El cuadrado de tu numero es\",Numerocuadrado)"
      ],
      "metadata": {
        "colab": {
          "base_uri": "https://localhost:8080/"
        },
        "id": "oDLcDpb2gKDl",
        "outputId": "7d47bd4d-4e42-408a-87f9-4637f7727511"
      },
      "execution_count": null,
      "outputs": [
        {
          "output_type": "stream",
          "name": "stdout",
          "text": [
            "ingresa un numero: 2\n",
            "El cuadrado de tu numero es 4\n"
          ]
        }
      ]
    },
    {
      "cell_type": "code",
      "source": [
        "#use condicional par ccrear un programa que verifique si una persona tiene entre 13 y 18 años o si es mayor de edad, pero tambien que me diga si es hombre o mujer\n",
        "edad_usuario1=int(input(\"Hola ingresa tu edad: \"))\n",
        "if edad_usuario1 >= 18:\n",
        "  print(\"Eres mayor de edad\")\n",
        "elif edad_usuario1 >= 13:\n",
        "  print(\"tu edad esta entre 13,18\")\n",
        "elif edad_usuario1 <13:\n",
        "  print(\"Eres menor a 13\")"
      ],
      "metadata": {
        "colab": {
          "base_uri": "https://localhost:8080/"
        },
        "id": "XkhhIAiNjaHY",
        "outputId": "e416b851-b242-4501-dfde-850b66807983"
      },
      "execution_count": null,
      "outputs": [
        {
          "output_type": "stream",
          "name": "stdout",
          "text": [
            "Hola ingresa tu edad: 10\n",
            "Eres menor a 13\n"
          ]
        }
      ]
    },
    {
      "cell_type": "code",
      "source": [
        "#escribe un diccionario con tu genero edad y una descripcion de ti e imprimelo\n",
        "Diccionario_Erika={\"Nombre\":\"Erika\",\"Genero\":\"Femenino\",\"Edad\":30,\"Descripcion\":\"Estoy aprendiendo pyhon\"}\n",
        "Diccionario_Erika"
      ],
      "metadata": {
        "colab": {
          "base_uri": "https://localhost:8080/"
        },
        "id": "RmzRKhEum6Ro",
        "outputId": "b773dcda-4788-42ed-b3c2-646568c8eb9e"
      },
      "execution_count": null,
      "outputs": [
        {
          "output_type": "execute_result",
          "data": {
            "text/plain": [
              "{'Nombre': 'Erika',\n",
              " 'Genero': 'Femenino',\n",
              " 'Edad': 30,\n",
              " 'Descripcion': 'Estoy aprendiendo pyhon'}"
            ]
          },
          "metadata": {},
          "execution_count": 29
        }
      ]
    },
    {
      "cell_type": "code",
      "source": [
        "#Escribe un programa que le pida el nombre al usuario ye caa letra de su nombre lo convierta en mayuscula\n",
        "nombre_usuario1=(input(\"Hola ingresa tu nombre: \"))\n",
        "nombre_usuario1.title()"
      ],
      "metadata": {
        "colab": {
          "base_uri": "https://localhost:8080/",
          "height": 52
        },
        "id": "SBiXrkYBoTGz",
        "outputId": "e4ffc5ee-91d8-4738-a7e6-4a6eaa876bf7"
      },
      "execution_count": null,
      "outputs": [
        {
          "name": "stdout",
          "output_type": "stream",
          "text": [
            "Hola ingresa tu nombre: erika ordoñez\n"
          ]
        },
        {
          "output_type": "execute_result",
          "data": {
            "text/plain": [
              "'Erika Ordoñez'"
            ],
            "application/vnd.google.colaboratory.intrinsic+json": {
              "type": "string"
            }
          },
          "metadata": {},
          "execution_count": 32
        }
      ]
    },
    {
      "cell_type": "code",
      "source": [
        "#dado el strng de tu nombre cambia la primera letra por otra letra que desees\n",
        "nombre_usuario1=(\"Erika Ordoñez\")\n",
        "nombre_usuario1.replace(\"E\",\"A\")"
      ],
      "metadata": {
        "colab": {
          "base_uri": "https://localhost:8080/",
          "height": 35
        },
        "id": "KhOtU6_Ro8MD",
        "outputId": "e8c79b83-7c3d-4f03-ccb8-e2cb84526dac"
      },
      "execution_count": null,
      "outputs": [
        {
          "output_type": "execute_result",
          "data": {
            "text/plain": [
              "'Arika Ordoñez'"
            ],
            "application/vnd.google.colaboratory.intrinsic+json": {
              "type": "string"
            }
          },
          "metadata": {},
          "execution_count": 33
        }
      ]
    },
    {
      "cell_type": "code",
      "source": [
        "#escribe un programa que reciba dos cadenas que las ocncatene y las muestr\n",
        "Nombre1=(input(\"Hola ingresa tu nombre: \"))\n",
        "Apellido1=(input(\"Hola ingresa tu apellido: \"))\n",
        "espacio=(\" \")\n",
        "mensaje_completo=(Nombre1+espacio+Apellido1)\n",
        "print(mensaje_completo)"
      ],
      "metadata": {
        "colab": {
          "base_uri": "https://localhost:8080/"
        },
        "id": "WFHrC2rVqGh1",
        "outputId": "f6c7904a-720a-4f44-c19c-ec9bb7803192"
      },
      "execution_count": null,
      "outputs": [
        {
          "output_type": "stream",
          "name": "stdout",
          "text": [
            "Hola ingresa tu nombre: erika\n",
            "Hola ingresa tu apellido: ordoñez\n",
            "erika ordoñez\n"
          ]
        }
      ]
    },
    {
      "cell_type": "code",
      "source": [],
      "metadata": {
        "id": "4pBnWKvctF3z"
      },
      "execution_count": null,
      "outputs": []
    },
    {
      "cell_type": "markdown",
      "source": [],
      "metadata": {
        "id": "CdDj4_2Ut_95"
      }
    }
  ]
}